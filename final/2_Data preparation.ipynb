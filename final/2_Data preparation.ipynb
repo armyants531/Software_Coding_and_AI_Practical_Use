{
 "cells": [
  {
   "cell_type": "markdown",
   "id": "f84c309f",
   "metadata": {},
   "source": [
    "## 남방톱날꽃게(청게)의 나이 예측에 관한 데이터셋 가공 및 준비"
   ]
  },
  {
   "cell_type": "markdown",
   "id": "535a43c1",
   "metadata": {},
   "source": [
    "kaggle에서 가져온 꽃게의 나이 예측(Physical attributes of Crabs found in Boston area - to predict age of Crab)에 관한 데이터를 다운로드 받아서 사용하였다. 꽃게의 경우, 데이터를 구하기 쉽지 않아, 여러 사이트에서 자료를 모아 병합하지는 못하였다.\n",
    "\n",
    "출처는 다음과 같다.\n",
    "\n",
    "Crab Age Prediction  \n",
    "https://www.kaggle.com/sidhus/crab-age-prediction"
   ]
  },
  {
   "cell_type": "markdown",
   "id": "963e2ff4",
   "metadata": {},
   "source": [
    "### 1. 데이터셋 가공을 위해 필요한 라이브러리 import 하기\n",
    "pandas 라이브러리 뿐만 아니라, 결측치를 확인하고 시각화하기 위해 missingno 라이브러리와 matplotlib 라이브러리를 import하였다."
   ]
  },
  {
   "cell_type": "code",
   "execution_count": 1,
   "id": "c9a4bbfb",
   "metadata": {},
   "outputs": [],
   "source": [
    "import pandas as pd\n",
    "import missingno as msno\n",
    "import matplotlib.pyplot as plt"
   ]
  },
  {
   "cell_type": "markdown",
   "id": "2958dcda",
   "metadata": {},
   "source": [
    "### 2. 데이터셋 가져오기\n",
    "상대경로를 사용하여 데이터셋을 가져온다."
   ]
  },
  {
   "cell_type": "code",
   "execution_count": 2,
   "id": "3d4ef848",
   "metadata": {},
   "outputs": [],
   "source": [
    "# 남방톱날꽃게(green mud crab)에 관한 데이터셋\n",
    "filepath = \"./2_CrabAgePrediction.csv\""
   ]
  },
  {
   "cell_type": "code",
   "execution_count": 3,
   "id": "65a5ef68",
   "metadata": {},
   "outputs": [],
   "source": [
    "df = pd.read_csv(filepath)"
   ]
  },
  {
   "cell_type": "code",
   "execution_count": 4,
   "id": "98f782d0",
   "metadata": {},
   "outputs": [
    {
     "data": {
      "text/html": [
       "<div>\n",
       "<style scoped>\n",
       "    .dataframe tbody tr th:only-of-type {\n",
       "        vertical-align: middle;\n",
       "    }\n",
       "\n",
       "    .dataframe tbody tr th {\n",
       "        vertical-align: top;\n",
       "    }\n",
       "\n",
       "    .dataframe thead th {\n",
       "        text-align: right;\n",
       "    }\n",
       "</style>\n",
       "<table border=\"1\" class=\"dataframe\">\n",
       "  <thead>\n",
       "    <tr style=\"text-align: right;\">\n",
       "      <th></th>\n",
       "      <th>Sex</th>\n",
       "      <th>Length</th>\n",
       "      <th>Diameter</th>\n",
       "      <th>Height</th>\n",
       "      <th>Weight</th>\n",
       "      <th>Shucked Weight</th>\n",
       "      <th>Viscera Weight</th>\n",
       "      <th>Shell Weight</th>\n",
       "      <th>Age</th>\n",
       "    </tr>\n",
       "  </thead>\n",
       "  <tbody>\n",
       "    <tr>\n",
       "      <th>0</th>\n",
       "      <td>F</td>\n",
       "      <td>1.4375</td>\n",
       "      <td>1.1750</td>\n",
       "      <td>0.4125</td>\n",
       "      <td>24.635715</td>\n",
       "      <td>12.332033</td>\n",
       "      <td>5.584852</td>\n",
       "      <td>6.747181</td>\n",
       "      <td>9</td>\n",
       "    </tr>\n",
       "    <tr>\n",
       "      <th>1</th>\n",
       "      <td>M</td>\n",
       "      <td>0.8875</td>\n",
       "      <td>0.6500</td>\n",
       "      <td>0.2125</td>\n",
       "      <td>5.400580</td>\n",
       "      <td>2.296310</td>\n",
       "      <td>1.374951</td>\n",
       "      <td>1.559222</td>\n",
       "      <td>6</td>\n",
       "    </tr>\n",
       "    <tr>\n",
       "      <th>2</th>\n",
       "      <td>I</td>\n",
       "      <td>1.0375</td>\n",
       "      <td>0.7750</td>\n",
       "      <td>0.2500</td>\n",
       "      <td>7.952035</td>\n",
       "      <td>3.231843</td>\n",
       "      <td>1.601747</td>\n",
       "      <td>2.764076</td>\n",
       "      <td>6</td>\n",
       "    </tr>\n",
       "    <tr>\n",
       "      <th>3</th>\n",
       "      <td>F</td>\n",
       "      <td>1.1750</td>\n",
       "      <td>0.8875</td>\n",
       "      <td>0.2500</td>\n",
       "      <td>13.480187</td>\n",
       "      <td>4.748541</td>\n",
       "      <td>2.282135</td>\n",
       "      <td>5.244657</td>\n",
       "      <td>10</td>\n",
       "    </tr>\n",
       "    <tr>\n",
       "      <th>4</th>\n",
       "      <td>I</td>\n",
       "      <td>0.8875</td>\n",
       "      <td>0.6625</td>\n",
       "      <td>0.2125</td>\n",
       "      <td>6.903103</td>\n",
       "      <td>3.458639</td>\n",
       "      <td>1.488349</td>\n",
       "      <td>1.700970</td>\n",
       "      <td>6</td>\n",
       "    </tr>\n",
       "    <tr>\n",
       "      <th>...</th>\n",
       "      <td>...</td>\n",
       "      <td>...</td>\n",
       "      <td>...</td>\n",
       "      <td>...</td>\n",
       "      <td>...</td>\n",
       "      <td>...</td>\n",
       "      <td>...</td>\n",
       "      <td>...</td>\n",
       "      <td>...</td>\n",
       "    </tr>\n",
       "    <tr>\n",
       "      <th>3888</th>\n",
       "      <td>F</td>\n",
       "      <td>1.4625</td>\n",
       "      <td>1.1375</td>\n",
       "      <td>0.3250</td>\n",
       "      <td>24.819987</td>\n",
       "      <td>11.651644</td>\n",
       "      <td>5.854172</td>\n",
       "      <td>6.378637</td>\n",
       "      <td>8</td>\n",
       "    </tr>\n",
       "    <tr>\n",
       "      <th>3889</th>\n",
       "      <td>F</td>\n",
       "      <td>1.5500</td>\n",
       "      <td>1.2125</td>\n",
       "      <td>0.4375</td>\n",
       "      <td>34.458817</td>\n",
       "      <td>15.450477</td>\n",
       "      <td>7.172423</td>\n",
       "      <td>9.780577</td>\n",
       "      <td>10</td>\n",
       "    </tr>\n",
       "    <tr>\n",
       "      <th>3890</th>\n",
       "      <td>I</td>\n",
       "      <td>0.6250</td>\n",
       "      <td>0.4625</td>\n",
       "      <td>0.1625</td>\n",
       "      <td>2.012815</td>\n",
       "      <td>0.765436</td>\n",
       "      <td>0.524466</td>\n",
       "      <td>0.637864</td>\n",
       "      <td>5</td>\n",
       "    </tr>\n",
       "    <tr>\n",
       "      <th>3891</th>\n",
       "      <td>I</td>\n",
       "      <td>1.0625</td>\n",
       "      <td>0.7750</td>\n",
       "      <td>0.2625</td>\n",
       "      <td>10.347568</td>\n",
       "      <td>4.507570</td>\n",
       "      <td>2.338834</td>\n",
       "      <td>2.976698</td>\n",
       "      <td>6</td>\n",
       "    </tr>\n",
       "    <tr>\n",
       "      <th>3892</th>\n",
       "      <td>I</td>\n",
       "      <td>0.7875</td>\n",
       "      <td>0.6125</td>\n",
       "      <td>0.2125</td>\n",
       "      <td>4.068153</td>\n",
       "      <td>1.502523</td>\n",
       "      <td>1.346601</td>\n",
       "      <td>1.417475</td>\n",
       "      <td>8</td>\n",
       "    </tr>\n",
       "  </tbody>\n",
       "</table>\n",
       "<p>3893 rows × 9 columns</p>\n",
       "</div>"
      ],
      "text/plain": [
       "     Sex  Length  Diameter  Height     Weight  Shucked Weight  Viscera Weight  \\\n",
       "0      F  1.4375    1.1750  0.4125  24.635715       12.332033        5.584852   \n",
       "1      M  0.8875    0.6500  0.2125   5.400580        2.296310        1.374951   \n",
       "2      I  1.0375    0.7750  0.2500   7.952035        3.231843        1.601747   \n",
       "3      F  1.1750    0.8875  0.2500  13.480187        4.748541        2.282135   \n",
       "4      I  0.8875    0.6625  0.2125   6.903103        3.458639        1.488349   \n",
       "...   ..     ...       ...     ...        ...             ...             ...   \n",
       "3888   F  1.4625    1.1375  0.3250  24.819987       11.651644        5.854172   \n",
       "3889   F  1.5500    1.2125  0.4375  34.458817       15.450477        7.172423   \n",
       "3890   I  0.6250    0.4625  0.1625   2.012815        0.765436        0.524466   \n",
       "3891   I  1.0625    0.7750  0.2625  10.347568        4.507570        2.338834   \n",
       "3892   I  0.7875    0.6125  0.2125   4.068153        1.502523        1.346601   \n",
       "\n",
       "      Shell Weight  Age  \n",
       "0         6.747181    9  \n",
       "1         1.559222    6  \n",
       "2         2.764076    6  \n",
       "3         5.244657   10  \n",
       "4         1.700970    6  \n",
       "...            ...  ...  \n",
       "3888      6.378637    8  \n",
       "3889      9.780577   10  \n",
       "3890      0.637864    5  \n",
       "3891      2.976698    6  \n",
       "3892      1.417475    8  \n",
       "\n",
       "[3893 rows x 9 columns]"
      ]
     },
     "execution_count": 4,
     "metadata": {},
     "output_type": "execute_result"
    }
   ],
   "source": [
    "df"
   ]
  },
  {
   "cell_type": "code",
   "execution_count": 5,
   "id": "2867a3c1",
   "metadata": {},
   "outputs": [
    {
     "data": {
      "text/html": [
       "<div>\n",
       "<style scoped>\n",
       "    .dataframe tbody tr th:only-of-type {\n",
       "        vertical-align: middle;\n",
       "    }\n",
       "\n",
       "    .dataframe tbody tr th {\n",
       "        vertical-align: top;\n",
       "    }\n",
       "\n",
       "    .dataframe thead th {\n",
       "        text-align: right;\n",
       "    }\n",
       "</style>\n",
       "<table border=\"1\" class=\"dataframe\">\n",
       "  <thead>\n",
       "    <tr style=\"text-align: right;\">\n",
       "      <th></th>\n",
       "      <th>Sex</th>\n",
       "      <th>Length</th>\n",
       "      <th>Diameter</th>\n",
       "      <th>Height</th>\n",
       "      <th>Weight</th>\n",
       "      <th>Shucked Weight</th>\n",
       "      <th>Viscera Weight</th>\n",
       "      <th>Shell Weight</th>\n",
       "      <th>Age</th>\n",
       "    </tr>\n",
       "  </thead>\n",
       "  <tbody>\n",
       "    <tr>\n",
       "      <th>0</th>\n",
       "      <td>F</td>\n",
       "      <td>1.4375</td>\n",
       "      <td>1.1750</td>\n",
       "      <td>0.4125</td>\n",
       "      <td>24.635715</td>\n",
       "      <td>12.332033</td>\n",
       "      <td>5.584852</td>\n",
       "      <td>6.747181</td>\n",
       "      <td>9</td>\n",
       "    </tr>\n",
       "    <tr>\n",
       "      <th>1</th>\n",
       "      <td>M</td>\n",
       "      <td>0.8875</td>\n",
       "      <td>0.6500</td>\n",
       "      <td>0.2125</td>\n",
       "      <td>5.400580</td>\n",
       "      <td>2.296310</td>\n",
       "      <td>1.374951</td>\n",
       "      <td>1.559222</td>\n",
       "      <td>6</td>\n",
       "    </tr>\n",
       "    <tr>\n",
       "      <th>2</th>\n",
       "      <td>I</td>\n",
       "      <td>1.0375</td>\n",
       "      <td>0.7750</td>\n",
       "      <td>0.2500</td>\n",
       "      <td>7.952035</td>\n",
       "      <td>3.231843</td>\n",
       "      <td>1.601747</td>\n",
       "      <td>2.764076</td>\n",
       "      <td>6</td>\n",
       "    </tr>\n",
       "    <tr>\n",
       "      <th>3</th>\n",
       "      <td>F</td>\n",
       "      <td>1.1750</td>\n",
       "      <td>0.8875</td>\n",
       "      <td>0.2500</td>\n",
       "      <td>13.480187</td>\n",
       "      <td>4.748541</td>\n",
       "      <td>2.282135</td>\n",
       "      <td>5.244657</td>\n",
       "      <td>10</td>\n",
       "    </tr>\n",
       "    <tr>\n",
       "      <th>4</th>\n",
       "      <td>I</td>\n",
       "      <td>0.8875</td>\n",
       "      <td>0.6625</td>\n",
       "      <td>0.2125</td>\n",
       "      <td>6.903103</td>\n",
       "      <td>3.458639</td>\n",
       "      <td>1.488349</td>\n",
       "      <td>1.700970</td>\n",
       "      <td>6</td>\n",
       "    </tr>\n",
       "    <tr>\n",
       "      <th>5</th>\n",
       "      <td>F</td>\n",
       "      <td>1.5500</td>\n",
       "      <td>1.1625</td>\n",
       "      <td>0.3500</td>\n",
       "      <td>28.661344</td>\n",
       "      <td>13.579410</td>\n",
       "      <td>6.761356</td>\n",
       "      <td>7.229122</td>\n",
       "      <td>8</td>\n",
       "    </tr>\n",
       "  </tbody>\n",
       "</table>\n",
       "</div>"
      ],
      "text/plain": [
       "  Sex  Length  Diameter  Height     Weight  Shucked Weight  Viscera Weight  \\\n",
       "0   F  1.4375    1.1750  0.4125  24.635715       12.332033        5.584852   \n",
       "1   M  0.8875    0.6500  0.2125   5.400580        2.296310        1.374951   \n",
       "2   I  1.0375    0.7750  0.2500   7.952035        3.231843        1.601747   \n",
       "3   F  1.1750    0.8875  0.2500  13.480187        4.748541        2.282135   \n",
       "4   I  0.8875    0.6625  0.2125   6.903103        3.458639        1.488349   \n",
       "5   F  1.5500    1.1625  0.3500  28.661344       13.579410        6.761356   \n",
       "\n",
       "   Shell Weight  Age  \n",
       "0      6.747181    9  \n",
       "1      1.559222    6  \n",
       "2      2.764076    6  \n",
       "3      5.244657   10  \n",
       "4      1.700970    6  \n",
       "5      7.229122    8  "
      ]
     },
     "execution_count": 5,
     "metadata": {},
     "output_type": "execute_result"
    }
   ],
   "source": [
    "# 처음 6줄을 보기\n",
    "df.head(6)"
   ]
  },
  {
   "cell_type": "markdown",
   "id": "0ebaacdb",
   "metadata": {},
   "source": [
    "데이터의 모양 확인하기"
   ]
  },
  {
   "cell_type": "code",
   "execution_count": 6,
   "id": "a6e922ee",
   "metadata": {},
   "outputs": [
    {
     "data": {
      "text/plain": [
       "(3893, 9)"
      ]
     },
     "execution_count": 6,
     "metadata": {},
     "output_type": "execute_result"
    }
   ],
   "source": [
    "df.shape"
   ]
  },
  {
   "cell_type": "markdown",
   "id": "2385f930",
   "metadata": {},
   "source": [
    "#### 데이터의 단위 확인\n",
    "Sex: Male(M), Female(F) and Indeterminate(I)\n",
    "Length: feet단위(1 foot = 30.48 cm)  \n",
    "Diameter: feet단위  \n",
    "Height: feet단위  \n",
    "Weight: ounces단위(1 Pound = 16 ounces)  \n",
    "Shucked Weight(Weight without the shell): ounces단위  \n",
    "Viscera Weight(weight that wraps around your abdominal organs deep inside body): ounces단위  \n",
    "Shell Weight(Weight of the Shell): ounces단위 \n",
    "Age: months단위"
   ]
  },
  {
   "cell_type": "markdown",
   "id": "e86ae4f8",
   "metadata": {},
   "source": [
    "### 3. 데이터 타입을 비롯한 데이터의 전반적인 정보를 확인하기"
   ]
  },
  {
   "cell_type": "code",
   "execution_count": 7,
   "id": "9b1d92d9",
   "metadata": {},
   "outputs": [
    {
     "name": "stdout",
     "output_type": "stream",
     "text": [
      "<class 'pandas.core.frame.DataFrame'>\n",
      "RangeIndex: 3893 entries, 0 to 3892\n",
      "Data columns (total 9 columns):\n",
      " #   Column          Non-Null Count  Dtype  \n",
      "---  ------          --------------  -----  \n",
      " 0   Sex             3893 non-null   object \n",
      " 1   Length          3893 non-null   float64\n",
      " 2   Diameter        3893 non-null   float64\n",
      " 3   Height          3893 non-null   float64\n",
      " 4   Weight          3893 non-null   float64\n",
      " 5   Shucked Weight  3893 non-null   float64\n",
      " 6   Viscera Weight  3893 non-null   float64\n",
      " 7   Shell Weight    3893 non-null   float64\n",
      " 8   Age             3893 non-null   int64  \n",
      "dtypes: float64(7), int64(1), object(1)\n",
      "memory usage: 273.9+ KB\n"
     ]
    }
   ],
   "source": [
    "df.info()"
   ]
  },
  {
   "cell_type": "markdown",
   "id": "b72cc355",
   "metadata": {},
   "source": [
    "#### 데이터셋에 관한 설명을 가져오기(평균, 편차, 최솟값, 25%, 50%, 75%, 최댓값)"
   ]
  },
  {
   "cell_type": "code",
   "execution_count": 8,
   "id": "6a2d7a3f",
   "metadata": {
    "scrolled": true
   },
   "outputs": [
    {
     "data": {
      "text/html": [
       "<div>\n",
       "<style scoped>\n",
       "    .dataframe tbody tr th:only-of-type {\n",
       "        vertical-align: middle;\n",
       "    }\n",
       "\n",
       "    .dataframe tbody tr th {\n",
       "        vertical-align: top;\n",
       "    }\n",
       "\n",
       "    .dataframe thead th {\n",
       "        text-align: right;\n",
       "    }\n",
       "</style>\n",
       "<table border=\"1\" class=\"dataframe\">\n",
       "  <thead>\n",
       "    <tr style=\"text-align: right;\">\n",
       "      <th></th>\n",
       "      <th>Length</th>\n",
       "      <th>Diameter</th>\n",
       "      <th>Height</th>\n",
       "      <th>Weight</th>\n",
       "      <th>Shucked Weight</th>\n",
       "      <th>Viscera Weight</th>\n",
       "      <th>Shell Weight</th>\n",
       "      <th>Age</th>\n",
       "    </tr>\n",
       "  </thead>\n",
       "  <tbody>\n",
       "    <tr>\n",
       "      <th>count</th>\n",
       "      <td>3893.000000</td>\n",
       "      <td>3893.000000</td>\n",
       "      <td>3893.000000</td>\n",
       "      <td>3893.000000</td>\n",
       "      <td>3893.000000</td>\n",
       "      <td>3893.000000</td>\n",
       "      <td>3893.000000</td>\n",
       "      <td>3893.000000</td>\n",
       "    </tr>\n",
       "    <tr>\n",
       "      <th>mean</th>\n",
       "      <td>1.311306</td>\n",
       "      <td>1.020893</td>\n",
       "      <td>0.349374</td>\n",
       "      <td>23.567275</td>\n",
       "      <td>10.207342</td>\n",
       "      <td>5.136546</td>\n",
       "      <td>6.795844</td>\n",
       "      <td>9.954791</td>\n",
       "    </tr>\n",
       "    <tr>\n",
       "      <th>std</th>\n",
       "      <td>0.300431</td>\n",
       "      <td>0.248233</td>\n",
       "      <td>0.104976</td>\n",
       "      <td>13.891201</td>\n",
       "      <td>6.275275</td>\n",
       "      <td>3.104133</td>\n",
       "      <td>3.943392</td>\n",
       "      <td>3.220967</td>\n",
       "    </tr>\n",
       "    <tr>\n",
       "      <th>min</th>\n",
       "      <td>0.187500</td>\n",
       "      <td>0.137500</td>\n",
       "      <td>0.000000</td>\n",
       "      <td>0.056699</td>\n",
       "      <td>0.028349</td>\n",
       "      <td>0.014175</td>\n",
       "      <td>0.042524</td>\n",
       "      <td>1.000000</td>\n",
       "    </tr>\n",
       "    <tr>\n",
       "      <th>25%</th>\n",
       "      <td>1.125000</td>\n",
       "      <td>0.875000</td>\n",
       "      <td>0.287500</td>\n",
       "      <td>12.672227</td>\n",
       "      <td>5.343881</td>\n",
       "      <td>2.664853</td>\n",
       "      <td>3.713785</td>\n",
       "      <td>8.000000</td>\n",
       "    </tr>\n",
       "    <tr>\n",
       "      <th>50%</th>\n",
       "      <td>1.362500</td>\n",
       "      <td>1.062500</td>\n",
       "      <td>0.362500</td>\n",
       "      <td>22.792998</td>\n",
       "      <td>9.539607</td>\n",
       "      <td>4.861939</td>\n",
       "      <td>6.662133</td>\n",
       "      <td>10.000000</td>\n",
       "    </tr>\n",
       "    <tr>\n",
       "      <th>75%</th>\n",
       "      <td>1.537500</td>\n",
       "      <td>1.200000</td>\n",
       "      <td>0.412500</td>\n",
       "      <td>32.786197</td>\n",
       "      <td>14.273973</td>\n",
       "      <td>7.200773</td>\n",
       "      <td>9.355335</td>\n",
       "      <td>11.000000</td>\n",
       "    </tr>\n",
       "    <tr>\n",
       "      <th>max</th>\n",
       "      <td>2.037500</td>\n",
       "      <td>1.625000</td>\n",
       "      <td>2.825000</td>\n",
       "      <td>80.101512</td>\n",
       "      <td>42.184056</td>\n",
       "      <td>21.545620</td>\n",
       "      <td>28.491248</td>\n",
       "      <td>29.000000</td>\n",
       "    </tr>\n",
       "  </tbody>\n",
       "</table>\n",
       "</div>"
      ],
      "text/plain": [
       "            Length     Diameter       Height       Weight  Shucked Weight  \\\n",
       "count  3893.000000  3893.000000  3893.000000  3893.000000     3893.000000   \n",
       "mean      1.311306     1.020893     0.349374    23.567275       10.207342   \n",
       "std       0.300431     0.248233     0.104976    13.891201        6.275275   \n",
       "min       0.187500     0.137500     0.000000     0.056699        0.028349   \n",
       "25%       1.125000     0.875000     0.287500    12.672227        5.343881   \n",
       "50%       1.362500     1.062500     0.362500    22.792998        9.539607   \n",
       "75%       1.537500     1.200000     0.412500    32.786197       14.273973   \n",
       "max       2.037500     1.625000     2.825000    80.101512       42.184056   \n",
       "\n",
       "       Viscera Weight  Shell Weight          Age  \n",
       "count     3893.000000   3893.000000  3893.000000  \n",
       "mean         5.136546      6.795844     9.954791  \n",
       "std          3.104133      3.943392     3.220967  \n",
       "min          0.014175      0.042524     1.000000  \n",
       "25%          2.664853      3.713785     8.000000  \n",
       "50%          4.861939      6.662133    10.000000  \n",
       "75%          7.200773      9.355335    11.000000  \n",
       "max         21.545620     28.491248    29.000000  "
      ]
     },
     "execution_count": 8,
     "metadata": {},
     "output_type": "execute_result"
    }
   ],
   "source": [
    "df.describe()"
   ]
  },
  {
   "cell_type": "markdown",
   "id": "efbabe26",
   "metadata": {},
   "source": [
    "#### 데이터의 결측치를 확인하기"
   ]
  },
  {
   "cell_type": "code",
   "execution_count": 9,
   "id": "1d33d0d6",
   "metadata": {},
   "outputs": [
    {
     "data": {
      "text/plain": [
       "Sex               0\n",
       "Length            0\n",
       "Diameter          0\n",
       "Height            0\n",
       "Weight            0\n",
       "Shucked Weight    0\n",
       "Viscera Weight    0\n",
       "Shell Weight      0\n",
       "Age               0\n",
       "dtype: int64"
      ]
     },
     "execution_count": 9,
     "metadata": {},
     "output_type": "execute_result"
    }
   ],
   "source": [
    "df.isna().sum() "
   ]
  },
  {
   "cell_type": "markdown",
   "id": "a7d0346c",
   "metadata": {},
   "source": [
    "#### 데이터의 결측치를 시각화하기  \n",
    "결측치가 없음을 시각적으로 확인할 수 있었다. "
   ]
  },
  {
   "cell_type": "code",
   "execution_count": 10,
   "id": "57f773c2",
   "metadata": {},
   "outputs": [
    {
     "data": {
      "image/png": "[encoded data removed]",
      "text/plain": [
       "<Figure size 1800x720 with 2 Axes>"
      ]
     },
     "metadata": {
      "needs_background": "light"
     },
     "output_type": "display_data"
    }
   ],
   "source": [
    "msno.matrix(df) # 결측치를 시각화\n",
    "plt.show()"
   ]
  },
  {
   "cell_type": "markdown",
   "id": "38b21a54",
   "metadata": {},
   "source": [
    "#### 남방톱날꽃게의 성별(M,F,I)에 따라 groupby함수를 통해 집계"
   ]
  },
  {
   "cell_type": "markdown",
   "id": "5fde78d9",
   "metadata": {},
   "source": [
    "집계 변수를 Weight로, 집계 대상을 성별로 잡았다. "
   ]
  },
  {
   "cell_type": "code",
   "execution_count": 11,
   "id": "2bccafe9",
   "metadata": {},
   "outputs": [],
   "source": [
    "grouped = df['Weight'].groupby(df['Sex'])"
   ]
  },
  {
   "cell_type": "markdown",
   "id": "7ed1c290",
   "metadata": {},
   "source": [
    "grouped의 형태 확인: pandas의 SeriesGroupBy object 형태"
   ]
  },
  {
   "cell_type": "code",
   "execution_count": 12,
   "id": "42d17b12",
   "metadata": {},
   "outputs": [
    {
     "data": {
      "text/plain": [
       "<pandas.core.groupby.generic.SeriesGroupBy object at 0x000001FC9A52F250>"
      ]
     },
     "execution_count": 12,
     "metadata": {},
     "output_type": "execute_result"
    }
   ],
   "source": [
    "grouped"
   ]
  },
  {
   "cell_type": "markdown",
   "id": "10c09f10",
   "metadata": {},
   "source": [
    "그룹별 합계 : grouped.sum()"
   ]
  },
  {
   "cell_type": "code",
   "execution_count": 13,
   "id": "d4c65e26",
   "metadata": {},
   "outputs": [
    {
     "data": {
      "text/plain": [
       "Sex\n",
       "F    36338.219003\n",
       "I    15092.919431\n",
       "M    40316.263367\n",
       "Name: Weight, dtype: float64"
      ]
     },
     "execution_count": 13,
     "metadata": {},
     "output_type": "execute_result"
    }
   ],
   "source": [
    "grouped.sum()"
   ]
  },
  {
   "cell_type": "markdown",
   "id": "751abee5",
   "metadata": {},
   "source": [
    "그룹별 평균 : grouped.mean()"
   ]
  },
  {
   "cell_type": "code",
   "execution_count": 14,
   "id": "d084b909",
   "metadata": {},
   "outputs": [
    {
     "data": {
      "text/plain": [
       "Sex\n",
       "F    29.663852\n",
       "I    12.240811\n",
       "M    28.094957\n",
       "Name: Weight, dtype: float64"
      ]
     },
     "execution_count": 14,
     "metadata": {},
     "output_type": "execute_result"
    }
   ],
   "source": [
    "grouped.mean()"
   ]
  },
  {
   "cell_type": "markdown",
   "id": "34fd1e4f",
   "metadata": {},
   "source": [
    "그룹별 크기 : grouped.size()"
   ]
  },
  {
   "cell_type": "code",
   "execution_count": 15,
   "id": "9499e3c0",
   "metadata": {},
   "outputs": [
    {
     "data": {
      "text/plain": [
       "Sex\n",
       "F    1225\n",
       "I    1233\n",
       "M    1435\n",
       "Name: Weight, dtype: int64"
      ]
     },
     "execution_count": 15,
     "metadata": {},
     "output_type": "execute_result"
    }
   ],
   "source": [
    "grouped.size()"
   ]
  },
  {
   "cell_type": "markdown",
   "id": "4dad524e",
   "metadata": {},
   "source": [
    "변수 하나가 아닌, 전체 연속형 변수에 대한 집계"
   ]
  },
  {
   "cell_type": "code",
   "execution_count": 16,
   "id": "13302871",
   "metadata": {},
   "outputs": [
    {
     "data": {
      "text/html": [
       "<div>\n",
       "<style scoped>\n",
       "    .dataframe tbody tr th:only-of-type {\n",
       "        vertical-align: middle;\n",
       "    }\n",
       "\n",
       "    .dataframe tbody tr th {\n",
       "        vertical-align: top;\n",
       "    }\n",
       "\n",
       "    .dataframe thead th {\n",
       "        text-align: right;\n",
       "    }\n",
       "</style>\n",
       "<table border=\"1\" class=\"dataframe\">\n",
       "  <thead>\n",
       "    <tr style=\"text-align: right;\">\n",
       "      <th></th>\n",
       "      <th>Length</th>\n",
       "      <th>Diameter</th>\n",
       "      <th>Height</th>\n",
       "      <th>Weight</th>\n",
       "      <th>Shucked Weight</th>\n",
       "      <th>Viscera Weight</th>\n",
       "      <th>Shell Weight</th>\n",
       "      <th>Age</th>\n",
       "    </tr>\n",
       "    <tr>\n",
       "      <th>Sex</th>\n",
       "      <th></th>\n",
       "      <th></th>\n",
       "      <th></th>\n",
       "      <th></th>\n",
       "      <th></th>\n",
       "      <th></th>\n",
       "      <th></th>\n",
       "      <th></th>\n",
       "    </tr>\n",
       "  </thead>\n",
       "  <tbody>\n",
       "    <tr>\n",
       "      <th>F</th>\n",
       "      <td>1.447367</td>\n",
       "      <td>1.136857</td>\n",
       "      <td>0.394990</td>\n",
       "      <td>29.663852</td>\n",
       "      <td>12.630952</td>\n",
       "      <td>6.537985</td>\n",
       "      <td>8.573271</td>\n",
       "      <td>11.139592</td>\n",
       "    </tr>\n",
       "    <tr>\n",
       "      <th>I</th>\n",
       "      <td>1.068309</td>\n",
       "      <td>0.815288</td>\n",
       "      <td>0.270114</td>\n",
       "      <td>12.240811</td>\n",
       "      <td>5.430021</td>\n",
       "      <td>2.611407</td>\n",
       "      <td>3.635944</td>\n",
       "      <td>7.883212</td>\n",
       "    </tr>\n",
       "    <tr>\n",
       "      <th>M</th>\n",
       "      <td>1.403946</td>\n",
       "      <td>1.098563</td>\n",
       "      <td>0.378537</td>\n",
       "      <td>28.094957</td>\n",
       "      <td>12.243240</td>\n",
       "      <td>6.109880</td>\n",
       "      <td>7.993621</td>\n",
       "      <td>10.723345</td>\n",
       "    </tr>\n",
       "  </tbody>\n",
       "</table>\n",
       "</div>"
      ],
      "text/plain": [
       "       Length  Diameter    Height     Weight  Shucked Weight  Viscera Weight  \\\n",
       "Sex                                                                            \n",
       "F    1.447367  1.136857  0.394990  29.663852       12.630952        6.537985   \n",
       "I    1.068309  0.815288  0.270114  12.240811        5.430021        2.611407   \n",
       "M    1.403946  1.098563  0.378537  28.094957       12.243240        6.109880   \n",
       "\n",
       "     Shell Weight        Age  \n",
       "Sex                           \n",
       "F        8.573271  11.139592  \n",
       "I        3.635944   7.883212  \n",
       "M        7.993621  10.723345  "
      ]
     },
     "execution_count": 16,
     "metadata": {},
     "output_type": "execute_result"
    }
   ],
   "source": [
    "df.groupby('Sex').mean()"
   ]
  },
  {
   "cell_type": "markdown",
   "id": "d2122335",
   "metadata": {},
   "source": [
    "#### 중복된 데이터가 있는지 확인  \n",
    "pandas의 duplicated()를 이용해 실수로 중복된 데이터가 들어가지는 않았는지 확인한다.  \n",
    "중복된 데이터가 있는 경우 DataFrame.drop_duplicates()를 이용해 중복된 값을 제거해 준다."
   ]
  },
  {
   "cell_type": "code",
   "execution_count": 17,
   "id": "89abfa25",
   "metadata": {},
   "outputs": [
    {
     "data": {
      "text/plain": [
       "0       False\n",
       "1       False\n",
       "2       False\n",
       "3       False\n",
       "4       False\n",
       "        ...  \n",
       "3888    False\n",
       "3889    False\n",
       "3890    False\n",
       "3891    False\n",
       "3892    False\n",
       "Length: 3893, dtype: bool"
      ]
     },
     "execution_count": 17,
     "metadata": {},
     "output_type": "execute_result"
    }
   ],
   "source": [
    "df.duplicated()"
   ]
  },
  {
   "cell_type": "markdown",
   "id": "1b0f0f2b",
   "metadata": {},
   "source": [
    "중복된 행의 데이터를 모두 보여주기 "
   ]
  },
  {
   "cell_type": "code",
   "execution_count": 18,
   "id": "ea4ae546",
   "metadata": {},
   "outputs": [
    {
     "data": {
      "text/html": [
       "<div>\n",
       "<style scoped>\n",
       "    .dataframe tbody tr th:only-of-type {\n",
       "        vertical-align: middle;\n",
       "    }\n",
       "\n",
       "    .dataframe tbody tr th {\n",
       "        vertical-align: top;\n",
       "    }\n",
       "\n",
       "    .dataframe thead th {\n",
       "        text-align: right;\n",
       "    }\n",
       "</style>\n",
       "<table border=\"1\" class=\"dataframe\">\n",
       "  <thead>\n",
       "    <tr style=\"text-align: right;\">\n",
       "      <th></th>\n",
       "      <th>Sex</th>\n",
       "      <th>Length</th>\n",
       "      <th>Diameter</th>\n",
       "      <th>Height</th>\n",
       "      <th>Weight</th>\n",
       "      <th>Shucked Weight</th>\n",
       "      <th>Viscera Weight</th>\n",
       "      <th>Shell Weight</th>\n",
       "      <th>Age</th>\n",
       "    </tr>\n",
       "  </thead>\n",
       "  <tbody>\n",
       "  </tbody>\n",
       "</table>\n",
       "</div>"
      ],
      "text/plain": [
       "Empty DataFrame\n",
       "Columns: [Sex, Length, Diameter, Height, Weight, Shucked Weight, Viscera Weight, Shell Weight, Age]\n",
       "Index: []"
      ]
     },
     "metadata": {},
     "output_type": "display_data"
    }
   ],
   "source": [
    "display(df[df.duplicated()])"
   ]
  },
  {
   "cell_type": "markdown",
   "id": "51b45cca",
   "metadata": {},
   "source": [
    "본 데이터 셋에는 중복된 데이터가 없음을 확인할 수 있다."
   ]
  },
  {
   "cell_type": "markdown",
   "id": "20fa740b",
   "metadata": {},
   "source": [
    "### 4. 데이터셋 가공  \n",
    "주어진 데이터에는 결측치나 중복값이 존재하지는 않았다. 따라서 이에 대한 데이터셋 가공이 필요하지 않다. 하지만 추후 데이터 분석과 딥러닝 모델 설계를 위해 지나치게 평균에서 벗어난 이상치들을 제거해주면 좋을 것이다. "
   ]
  },
  {
   "cell_type": "markdown",
   "id": "8e5bfdbb",
   "metadata": {},
   "source": [
    "#### 이상치(Outlier) 제거\n",
    "평균에서 +/- 3표준편차를 넘어서는 값들을 이상치(Outlier)로 보는 3 시그마법을 이용해 이상치를 제거하였다. "
   ]
  },
  {
   "cell_type": "code",
   "execution_count": 19,
   "id": "82c20993",
   "metadata": {},
   "outputs": [],
   "source": [
    "def is_outliers(s):\n",
    "    upper_limit = s.mean() + (s.std()*3)\n",
    "    lower_limit = s.mean() - (s.std()*3)\n",
    "    return ~s.between(lower_limit, upper_limit)"
   ]
  },
  {
   "cell_type": "markdown",
   "id": "595e2797",
   "metadata": {},
   "source": [
    "꽃게는 시간이 지날 수록 몸무게가 늘어나기 때문에 weight가 꽃게의 나이 결정에 가장 중요하다고 생각한다. 따라서 나이별로 weight이상치를 제거하였다. "
   ]
  },
  {
   "cell_type": "code",
   "execution_count": 20,
   "id": "69d926db",
   "metadata": {},
   "outputs": [],
   "source": [
    "df_out = df[~df.groupby('Age')['Weight'].apply(is_outliers)]"
   ]
  },
  {
   "cell_type": "markdown",
   "id": "3b247c2b",
   "metadata": {},
   "source": [
    "이상치 제거 전/후 비교"
   ]
  },
  {
   "cell_type": "code",
   "execution_count": 21,
   "id": "dbb3a35b",
   "metadata": {},
   "outputs": [
    {
     "name": "stdout",
     "output_type": "stream",
     "text": [
      "weight이상치 제거전: (3893, 9)\n",
      "weight이상치 제거후: (3861, 9)\n"
     ]
    }
   ],
   "source": [
    "print(\"weight이상치 제거전:\", df.shape)\n",
    "print(\"weight이상치 제거후:\", df_out.shape)"
   ]
  },
  {
   "cell_type": "markdown",
   "id": "c2d0fe09",
   "metadata": {},
   "source": [
    "본 데이터 준비 단계의 이상치 제거가 불충분한지는 그래프를 통해 데이터를 시각화하는 다음 단계에서 확인해볼 수 있을 것이다.   "
   ]
  },
  {
   "cell_type": "markdown",
   "id": "ed01aa98",
   "metadata": {},
   "source": [
    "### 5. 가공된 데이터셋 저장"
   ]
  },
  {
   "cell_type": "code",
   "execution_count": 22,
   "id": "8d19f5f2",
   "metadata": {},
   "outputs": [],
   "source": [
    "df_out.to_csv(\"2_Data preparation.csv\",encoding=\"utf-8-sig\",index=False)"
   ]
  },
  {
   "cell_type": "code",
   "execution_count": null,
   "id": "7ecc4dd9",
   "metadata": {},
   "outputs": [],
   "source": []
  }
 ],
 "metadata": {
  "kernelspec": {
   "display_name": "Python 3",
   "language": "python",
   "name": "python3"
  },
  "language_info": {
   "codemirror_mode": {
    "name": "ipython",
    "version": 3
   },
   "file_extension": ".py",
   "mimetype": "text/x-python",
   "name": "python",
   "nbconvert_exporter": "python",
   "pygments_lexer": "ipython3",
   "version": "3.8.8"
  }
 },
 "nbformat": 4,
 "nbformat_minor": 5
}
