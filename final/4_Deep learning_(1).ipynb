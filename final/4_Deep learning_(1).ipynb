{
 "cells": [
  {
   "cell_type": "markdown",
   "id": "660a4475",
   "metadata": {},
   "source": [
    "## 남방톱날꽃게(청게)의 나이 예측 딥러닝 모델 구현 1"
   ]
  },
  {
   "cell_type": "markdown",
   "id": "282a42cb",
   "metadata": {},
   "source": [
    "본 소스 파일에서는 홀드 아웃 교차 검증의 방법을 사용하여 70%의 데이터셋을 학습 데이터셋으로 사용하였다. 그리고 과적합을 막기 위해 EarlyStopping() 함수를 이용하여 학습 자동 중단 과정을 설정하였다.   \n",
    "다중 선형 회귀 분석의 방법을 사용하여 정확도를 MAE(Mean Absolute Error)를 이용해 평가하였다."
   ]
  },
  {
   "cell_type": "markdown",
   "id": "a4d6c55e",
   "metadata": {},
   "source": [
    "### 1. 필요한 라이브러리 import하기"
   ]
  },
  {
   "cell_type": "code",
   "execution_count": 1,
   "id": "dcff1ede",
   "metadata": {},
   "outputs": [],
   "source": [
    "from tensorflow.keras.models import Sequential\n",
    "from tensorflow.keras.layers import Dense\n",
    "from tensorflow.keras.callbacks import EarlyStopping\n",
    "\n",
    "import pandas as pd\n",
    "import seaborn as sns\n",
    "import matplotlib.pyplot as plt\n",
    "import matplotlib.font_manager   # 한글 사용을 위해 import\n",
    "import numpy as np\n",
    "import tensorflow as tf"
   ]
  },
  {
   "cell_type": "markdown",
   "id": "73c90658",
   "metadata": {},
   "source": [
    "tensorflow 버전 확인하기"
   ]
  },
  {
   "cell_type": "code",
   "execution_count": 2,
   "id": "24ff4929",
   "metadata": {},
   "outputs": [
    {
     "name": "stdout",
     "output_type": "stream",
     "text": [
      "TensorFlow version:  2.3.0\n"
     ]
    }
   ],
   "source": [
    "print(\"TensorFlow version: \", tf.__version__)"
   ]
  },
  {
   "cell_type": "markdown",
   "id": "3b46fbbc",
   "metadata": {},
   "source": [
    "tensorboard import & version 확인하기"
   ]
  },
  {
   "cell_type": "code",
   "execution_count": 3,
   "id": "2f80c72c",
   "metadata": {},
   "outputs": [
    {
     "data": {
      "text/plain": [
       "'2.4.0'"
      ]
     },
     "execution_count": 3,
     "metadata": {},
     "output_type": "execute_result"
    }
   ],
   "source": [
    "import tensorboard\n",
    "\n",
    "tensorboard.__version__"
   ]
  },
  {
   "cell_type": "markdown",
   "id": "f8d16c70",
   "metadata": {},
   "source": [
    "### 2. 데이터셋 가져오기"
   ]
  },
  {
   "cell_type": "markdown",
   "id": "18e268d3",
   "metadata": {},
   "source": [
    "상대경로를 사용하여 최종적으로 가공된 데이터셋을 가져온다."
   ]
  },
  {
   "cell_type": "code",
   "execution_count": 4,
   "id": "e22db6c8",
   "metadata": {},
   "outputs": [],
   "source": [
    "filepath = \"./3_Dataset.csv\""
   ]
  },
  {
   "cell_type": "code",
   "execution_count": 5,
   "id": "6850948b",
   "metadata": {},
   "outputs": [],
   "source": [
    "df = pd.read_csv(filepath)"
   ]
  },
  {
   "cell_type": "code",
   "execution_count": 6,
   "id": "e960f4a9",
   "metadata": {},
   "outputs": [
    {
     "data": {
      "text/html": [
       "<div>\n",
       "<style scoped>\n",
       "    .dataframe tbody tr th:only-of-type {\n",
       "        vertical-align: middle;\n",
       "    }\n",
       "\n",
       "    .dataframe tbody tr th {\n",
       "        vertical-align: top;\n",
       "    }\n",
       "\n",
       "    .dataframe thead th {\n",
       "        text-align: right;\n",
       "    }\n",
       "</style>\n",
       "<table border=\"1\" class=\"dataframe\">\n",
       "  <thead>\n",
       "    <tr style=\"text-align: right;\">\n",
       "      <th></th>\n",
       "      <th>Length</th>\n",
       "      <th>Diameter</th>\n",
       "      <th>Height</th>\n",
       "      <th>Weight</th>\n",
       "      <th>Viscera Weight</th>\n",
       "      <th>Shell Weight</th>\n",
       "      <th>Age</th>\n",
       "      <th>Sex_F</th>\n",
       "      <th>Sex_I</th>\n",
       "      <th>Sex_M</th>\n",
       "    </tr>\n",
       "  </thead>\n",
       "  <tbody>\n",
       "    <tr>\n",
       "      <th>0</th>\n",
       "      <td>1.4375</td>\n",
       "      <td>1.1750</td>\n",
       "      <td>0.4125</td>\n",
       "      <td>24.635715</td>\n",
       "      <td>5.584852</td>\n",
       "      <td>6.747181</td>\n",
       "      <td>9</td>\n",
       "      <td>1</td>\n",
       "      <td>0</td>\n",
       "      <td>0</td>\n",
       "    </tr>\n",
       "    <tr>\n",
       "      <th>1</th>\n",
       "      <td>0.8875</td>\n",
       "      <td>0.6500</td>\n",
       "      <td>0.2125</td>\n",
       "      <td>5.400580</td>\n",
       "      <td>1.374951</td>\n",
       "      <td>1.559222</td>\n",
       "      <td>6</td>\n",
       "      <td>0</td>\n",
       "      <td>0</td>\n",
       "      <td>1</td>\n",
       "    </tr>\n",
       "    <tr>\n",
       "      <th>2</th>\n",
       "      <td>1.0375</td>\n",
       "      <td>0.7750</td>\n",
       "      <td>0.2500</td>\n",
       "      <td>7.952035</td>\n",
       "      <td>1.601747</td>\n",
       "      <td>2.764076</td>\n",
       "      <td>6</td>\n",
       "      <td>0</td>\n",
       "      <td>1</td>\n",
       "      <td>0</td>\n",
       "    </tr>\n",
       "    <tr>\n",
       "      <th>3</th>\n",
       "      <td>1.1750</td>\n",
       "      <td>0.8875</td>\n",
       "      <td>0.2500</td>\n",
       "      <td>13.480187</td>\n",
       "      <td>2.282135</td>\n",
       "      <td>5.244657</td>\n",
       "      <td>10</td>\n",
       "      <td>1</td>\n",
       "      <td>0</td>\n",
       "      <td>0</td>\n",
       "    </tr>\n",
       "    <tr>\n",
       "      <th>4</th>\n",
       "      <td>0.8875</td>\n",
       "      <td>0.6625</td>\n",
       "      <td>0.2125</td>\n",
       "      <td>6.903103</td>\n",
       "      <td>1.488349</td>\n",
       "      <td>1.700970</td>\n",
       "      <td>6</td>\n",
       "      <td>0</td>\n",
       "      <td>1</td>\n",
       "      <td>0</td>\n",
       "    </tr>\n",
       "    <tr>\n",
       "      <th>...</th>\n",
       "      <td>...</td>\n",
       "      <td>...</td>\n",
       "      <td>...</td>\n",
       "      <td>...</td>\n",
       "      <td>...</td>\n",
       "      <td>...</td>\n",
       "      <td>...</td>\n",
       "      <td>...</td>\n",
       "      <td>...</td>\n",
       "      <td>...</td>\n",
       "    </tr>\n",
       "    <tr>\n",
       "      <th>3847</th>\n",
       "      <td>1.4625</td>\n",
       "      <td>1.1375</td>\n",
       "      <td>0.3250</td>\n",
       "      <td>24.819987</td>\n",
       "      <td>5.854172</td>\n",
       "      <td>6.378637</td>\n",
       "      <td>8</td>\n",
       "      <td>1</td>\n",
       "      <td>0</td>\n",
       "      <td>0</td>\n",
       "    </tr>\n",
       "    <tr>\n",
       "      <th>3848</th>\n",
       "      <td>1.5500</td>\n",
       "      <td>1.2125</td>\n",
       "      <td>0.4375</td>\n",
       "      <td>34.458817</td>\n",
       "      <td>7.172423</td>\n",
       "      <td>9.780577</td>\n",
       "      <td>10</td>\n",
       "      <td>1</td>\n",
       "      <td>0</td>\n",
       "      <td>0</td>\n",
       "    </tr>\n",
       "    <tr>\n",
       "      <th>3849</th>\n",
       "      <td>0.6250</td>\n",
       "      <td>0.4625</td>\n",
       "      <td>0.1625</td>\n",
       "      <td>2.012815</td>\n",
       "      <td>0.524466</td>\n",
       "      <td>0.637864</td>\n",
       "      <td>5</td>\n",
       "      <td>0</td>\n",
       "      <td>1</td>\n",
       "      <td>0</td>\n",
       "    </tr>\n",
       "    <tr>\n",
       "      <th>3850</th>\n",
       "      <td>1.0625</td>\n",
       "      <td>0.7750</td>\n",
       "      <td>0.2625</td>\n",
       "      <td>10.347568</td>\n",
       "      <td>2.338834</td>\n",
       "      <td>2.976698</td>\n",
       "      <td>6</td>\n",
       "      <td>0</td>\n",
       "      <td>1</td>\n",
       "      <td>0</td>\n",
       "    </tr>\n",
       "    <tr>\n",
       "      <th>3851</th>\n",
       "      <td>0.7875</td>\n",
       "      <td>0.6125</td>\n",
       "      <td>0.2125</td>\n",
       "      <td>4.068153</td>\n",
       "      <td>1.346601</td>\n",
       "      <td>1.417475</td>\n",
       "      <td>8</td>\n",
       "      <td>0</td>\n",
       "      <td>1</td>\n",
       "      <td>0</td>\n",
       "    </tr>\n",
       "  </tbody>\n",
       "</table>\n",
       "<p>3852 rows × 10 columns</p>\n",
       "</div>"
      ],
      "text/plain": [
       "      Length  Diameter  Height     Weight  Viscera Weight  Shell Weight  Age  \\\n",
       "0     1.4375    1.1750  0.4125  24.635715        5.584852      6.747181    9   \n",
       "1     0.8875    0.6500  0.2125   5.400580        1.374951      1.559222    6   \n",
       "2     1.0375    0.7750  0.2500   7.952035        1.601747      2.764076    6   \n",
       "3     1.1750    0.8875  0.2500  13.480187        2.282135      5.244657   10   \n",
       "4     0.8875    0.6625  0.2125   6.903103        1.488349      1.700970    6   \n",
       "...      ...       ...     ...        ...             ...           ...  ...   \n",
       "3847  1.4625    1.1375  0.3250  24.819987        5.854172      6.378637    8   \n",
       "3848  1.5500    1.2125  0.4375  34.458817        7.172423      9.780577   10   \n",
       "3849  0.6250    0.4625  0.1625   2.012815        0.524466      0.637864    5   \n",
       "3850  1.0625    0.7750  0.2625  10.347568        2.338834      2.976698    6   \n",
       "3851  0.7875    0.6125  0.2125   4.068153        1.346601      1.417475    8   \n",
       "\n",
       "      Sex_F  Sex_I  Sex_M  \n",
       "0         1      0      0  \n",
       "1         0      0      1  \n",
       "2         0      1      0  \n",
       "3         1      0      0  \n",
       "4         0      1      0  \n",
       "...     ...    ...    ...  \n",
       "3847      1      0      0  \n",
       "3848      1      0      0  \n",
       "3849      0      1      0  \n",
       "3850      0      1      0  \n",
       "3851      0      1      0  \n",
       "\n",
       "[3852 rows x 10 columns]"
      ]
     },
     "execution_count": 6,
     "metadata": {},
     "output_type": "execute_result"
    }
   ],
   "source": [
    "df"
   ]
  },
  {
   "cell_type": "markdown",
   "id": "5c66ea07",
   "metadata": {},
   "source": [
    "### 3. 딥러닝을 위해 독립변수(x)와 종속변수(y)로 데이터 분리하기"
   ]
  },
  {
   "cell_type": "code",
   "execution_count": 7,
   "id": "f24d7df5",
   "metadata": {},
   "outputs": [],
   "source": [
    "#종속변수 \n",
    "df_y = df['Age']\n",
    "#독립변수\n",
    "df_x = df.drop(['Age'], axis=1)"
   ]
  },
  {
   "cell_type": "code",
   "execution_count": 8,
   "id": "823de38d",
   "metadata": {},
   "outputs": [
    {
     "data": {
      "text/html": [
       "<div>\n",
       "<style scoped>\n",
       "    .dataframe tbody tr th:only-of-type {\n",
       "        vertical-align: middle;\n",
       "    }\n",
       "\n",
       "    .dataframe tbody tr th {\n",
       "        vertical-align: top;\n",
       "    }\n",
       "\n",
       "    .dataframe thead th {\n",
       "        text-align: right;\n",
       "    }\n",
       "</style>\n",
       "<table border=\"1\" class=\"dataframe\">\n",
       "  <thead>\n",
       "    <tr style=\"text-align: right;\">\n",
       "      <th></th>\n",
       "      <th>Length</th>\n",
       "      <th>Diameter</th>\n",
       "      <th>Height</th>\n",
       "      <th>Weight</th>\n",
       "      <th>Viscera Weight</th>\n",
       "      <th>Shell Weight</th>\n",
       "      <th>Sex_F</th>\n",
       "      <th>Sex_I</th>\n",
       "      <th>Sex_M</th>\n",
       "    </tr>\n",
       "  </thead>\n",
       "  <tbody>\n",
       "    <tr>\n",
       "      <th>0</th>\n",
       "      <td>1.4375</td>\n",
       "      <td>1.1750</td>\n",
       "      <td>0.4125</td>\n",
       "      <td>24.635715</td>\n",
       "      <td>5.584852</td>\n",
       "      <td>6.747181</td>\n",
       "      <td>1</td>\n",
       "      <td>0</td>\n",
       "      <td>0</td>\n",
       "    </tr>\n",
       "    <tr>\n",
       "      <th>1</th>\n",
       "      <td>0.8875</td>\n",
       "      <td>0.6500</td>\n",
       "      <td>0.2125</td>\n",
       "      <td>5.400580</td>\n",
       "      <td>1.374951</td>\n",
       "      <td>1.559222</td>\n",
       "      <td>0</td>\n",
       "      <td>0</td>\n",
       "      <td>1</td>\n",
       "    </tr>\n",
       "    <tr>\n",
       "      <th>2</th>\n",
       "      <td>1.0375</td>\n",
       "      <td>0.7750</td>\n",
       "      <td>0.2500</td>\n",
       "      <td>7.952035</td>\n",
       "      <td>1.601747</td>\n",
       "      <td>2.764076</td>\n",
       "      <td>0</td>\n",
       "      <td>1</td>\n",
       "      <td>0</td>\n",
       "    </tr>\n",
       "    <tr>\n",
       "      <th>3</th>\n",
       "      <td>1.1750</td>\n",
       "      <td>0.8875</td>\n",
       "      <td>0.2500</td>\n",
       "      <td>13.480187</td>\n",
       "      <td>2.282135</td>\n",
       "      <td>5.244657</td>\n",
       "      <td>1</td>\n",
       "      <td>0</td>\n",
       "      <td>0</td>\n",
       "    </tr>\n",
       "    <tr>\n",
       "      <th>4</th>\n",
       "      <td>0.8875</td>\n",
       "      <td>0.6625</td>\n",
       "      <td>0.2125</td>\n",
       "      <td>6.903103</td>\n",
       "      <td>1.488349</td>\n",
       "      <td>1.700970</td>\n",
       "      <td>0</td>\n",
       "      <td>1</td>\n",
       "      <td>0</td>\n",
       "    </tr>\n",
       "  </tbody>\n",
       "</table>\n",
       "</div>"
      ],
      "text/plain": [
       "   Length  Diameter  Height     Weight  Viscera Weight  Shell Weight  Sex_F  \\\n",
       "0  1.4375    1.1750  0.4125  24.635715        5.584852      6.747181      1   \n",
       "1  0.8875    0.6500  0.2125   5.400580        1.374951      1.559222      0   \n",
       "2  1.0375    0.7750  0.2500   7.952035        1.601747      2.764076      0   \n",
       "3  1.1750    0.8875  0.2500  13.480187        2.282135      5.244657      1   \n",
       "4  0.8875    0.6625  0.2125   6.903103        1.488349      1.700970      0   \n",
       "\n",
       "   Sex_I  Sex_M  \n",
       "0      0      0  \n",
       "1      0      1  \n",
       "2      1      0  \n",
       "3      0      0  \n",
       "4      1      0  "
      ]
     },
     "execution_count": 8,
     "metadata": {},
     "output_type": "execute_result"
    }
   ],
   "source": [
    "df_x.head()"
   ]
  },
  {
   "cell_type": "code",
   "execution_count": 9,
   "id": "dce7a6c0",
   "metadata": {},
   "outputs": [
    {
     "data": {
      "text/plain": [
       "0     9\n",
       "1     6\n",
       "2     6\n",
       "3    10\n",
       "4     6\n",
       "Name: Age, dtype: int64"
      ]
     },
     "execution_count": 9,
     "metadata": {},
     "output_type": "execute_result"
    }
   ],
   "source": [
    "df_y.head()"
   ]
  },
  {
   "cell_type": "markdown",
   "id": "dfe4963e",
   "metadata": {},
   "source": [
    "### 4. 데이터셋을 training 데이터셋과 test 데이터셋으로 분리"
   ]
  },
  {
   "cell_type": "code",
   "execution_count": 10,
   "id": "fba8f79f",
   "metadata": {},
   "outputs": [],
   "source": [
    "# 실행할 때마다 같은 결과를 출력하기 위해 아래처럼 설정\n",
    "seed = 2  # seed 값이 같으면 똑같은 랜덤 값을 출력함\n",
    "np.random.seed(seed)\n",
    "tf.random.set_seed(seed)\n",
    "\n",
    "from sklearn.model_selection import train_test_split "
   ]
  },
  {
   "cell_type": "code",
   "execution_count": 11,
   "id": "e7f5bbc5",
   "metadata": {},
   "outputs": [],
   "source": [
    "# 트레이닝 데이터셋 : 70%, 테스트 데이터셋 : 30%\n",
    "X_train, X_test, Y_train, Y_test = train_test_split(df_x, df_y, test_size=0.3, random_state=seed)"
   ]
  },
  {
   "cell_type": "markdown",
   "id": "d7f974ea",
   "metadata": {},
   "source": [
    "학습 데이터 개수와 테스트 데이터 개수 출력 "
   ]
  },
  {
   "cell_type": "code",
   "execution_count": 12,
   "id": "4b4f5f7a",
   "metadata": {},
   "outputs": [
    {
     "name": "stdout",
     "output_type": "stream",
     "text": [
      "학습 데이터 개수 : 2696  ,  테스트 데이터 개수 1156  \n"
     ]
    }
   ],
   "source": [
    "print( \"학습 데이터 개수 : %d  ,  테스트 데이터 개수 %d  \"  %(len(X_train), len(X_test)))"
   ]
  },
  {
   "cell_type": "code",
   "execution_count": 13,
   "id": "8fa24adb",
   "metadata": {},
   "outputs": [
    {
     "name": "stdout",
     "output_type": "stream",
     "text": [
      "-> type(X_train) :  <class 'pandas.core.frame.DataFrame'>\n",
      "-> 학습 데이터 모양 :  (2696, 9)\n",
      "-> 학습 데이터 개수 :  2696 개\n",
      "\n",
      "학습 데이터 속성\n",
      "      Length  Diameter  Height     Weight  Viscera Weight  Shell Weight  \\\n",
      "530   1.4500    1.1500  0.4500  29.809499        7.356695      7.824462   \n",
      "986   1.4375    1.0750  0.3875  22.552027        5.457279      6.236890   \n",
      "2683  1.6750    1.3125  0.4250  39.703475        8.575724     10.971257   \n",
      "1269  1.2500    1.0500  0.3375  19.178437        4.011454      5.854172   \n",
      "2891  1.2625    0.9500  0.3375  19.433582        4.436697      4.564269   \n",
      "...      ...       ...     ...        ...             ...           ...   \n",
      "3606  1.7750    1.3875  0.4250  41.673765       10.772810     12.218635   \n",
      "1608  1.3875    1.0500  0.3625  24.649890        7.299996      7.087375   \n",
      "2541  0.8375    0.6500  0.2250   5.570677        1.162330      1.587572   \n",
      "2575  1.4250    1.0875  0.3500  24.338046        5.556502      6.506210   \n",
      "3240  0.9000    0.6625  0.2125   5.372230        1.459999      1.559222   \n",
      "\n",
      "      Sex_F  Sex_I  Sex_M  \n",
      "530       1      0      0  \n",
      "986       1      0      0  \n",
      "2683      0      0      1  \n",
      "1269      0      0      1  \n",
      "2891      1      0      0  \n",
      "...     ...    ...    ...  \n",
      "3606      1      0      0  \n",
      "1608      0      0      1  \n",
      "2541      0      1      0  \n",
      "2575      1      0      0  \n",
      "3240      0      1      0  \n",
      "\n",
      "[2696 rows x 9 columns]\n",
      "------------------------------------------------------------------------------------------\n",
      "-> type(X_test) :  <class 'pandas.core.frame.DataFrame'>\n",
      "-> 테스트 데이터 모양 :  (1156, 9)\n",
      "-> 테스트 데이터 개수 :  1156 개\n",
      "\n",
      "테스트 데이터 속성\n",
      "      Length  Diameter  Height     Weight  Viscera Weight  Shell Weight  \\\n",
      "2334  1.5625    1.2250  0.4125  34.161147        8.802520      9.823102   \n",
      "625   0.9375    0.6875  0.2125   6.236890        1.417475      1.715145   \n",
      "101   1.3125    1.0000  0.3250  23.515910        5.173784      7.796112   \n",
      "3783  1.1750    0.9250  0.3250  14.812614        3.770484      4.677668   \n",
      "236   1.6500    1.2125  0.3875  34.799011        7.767763      8.504850   \n",
      "...      ...       ...     ...        ...             ...           ...   \n",
      "1208  0.7000    0.5250  0.2000   3.075921        0.751262      0.978058   \n",
      "148   1.5250    1.1875  0.4250  29.440956        6.832230      9.071840   \n",
      "2217  1.6750    1.2125  0.4375  35.621147        9.128539     10.942907   \n",
      "772   1.5125    1.2500  0.4375  31.127751        6.577084     10.631063   \n",
      "375   0.9250    0.6875  0.2000   6.591259        1.587572      2.041164   \n",
      "\n",
      "      Sex_F  Sex_I  Sex_M  \n",
      "2334      0      0      1  \n",
      "625       0      1      0  \n",
      "101       0      0      1  \n",
      "3783      0      0      1  \n",
      "236       0      0      1  \n",
      "...     ...    ...    ...  \n",
      "1208      0      0      1  \n",
      "148       0      1      0  \n",
      "2217      0      1      0  \n",
      "772       0      0      1  \n",
      "375       0      1      0  \n",
      "\n",
      "[1156 rows x 9 columns]\n"
     ]
    }
   ],
   "source": [
    "print('-> type(X_train) : ', type(X_train))          # train_test_split( ) 함수의 return 값은 numpy.ndarray 타입\n",
    "print('-> 학습 데이터 모양 : ',  np.shape(X_train))  # 학습 데이터 모양 \n",
    "print('-> 학습 데이터 개수 : ', len(X_train), '개')  # 학습 데이터 개수 \n",
    "print(\"\\n학습 데이터 속성\")\n",
    "print(X_train)                                       # 학습 데이터 속성 확인\n",
    "\n",
    "print('-'*90)\n",
    "\n",
    "print('-> type(X_test) : ', type(X_test))          \n",
    "print('-> 테스트 데이터 모양 : ',  np.shape(X_test)) # 테스트 데이터 모양 \n",
    "print('-> 테스트 데이터 개수 : ', len(X_test), '개') # 테스트 데이터 개수 \n",
    "print(\"\\n테스트 데이터 속성\")\n",
    "print(X_test)                                        # 테스트 데이터 속성 확인"
   ]
  },
  {
   "cell_type": "markdown",
   "id": "3c092881",
   "metadata": {},
   "source": [
    "### 5. 딥러닝 모델 설계하기"
   ]
  },
  {
   "cell_type": "markdown",
   "id": "101fe39c",
   "metadata": {},
   "source": [
    "Keras TensorBoard 결과를 기록할 로그 디렉토리 생성   "
   ]
  },
  {
   "cell_type": "code",
   "execution_count": 14,
   "id": "823d264c",
   "metadata": {},
   "outputs": [],
   "source": [
    "from datetime import datetime"
   ]
  },
  {
   "cell_type": "code",
   "execution_count": 15,
   "id": "ff7e0980",
   "metadata": {},
   "outputs": [
    {
     "data": {
      "text/plain": [
       "datetime.datetime(2021, 12, 21, 23, 45, 29, 541255)"
      ]
     },
     "execution_count": 15,
     "metadata": {},
     "output_type": "execute_result"
    }
   ],
   "source": [
    "datetime.now()"
   ]
  },
  {
   "cell_type": "code",
   "execution_count": 16,
   "id": "6823b800",
   "metadata": {},
   "outputs": [
    {
     "data": {
      "text/plain": [
       "'20211221-234529'"
      ]
     },
     "execution_count": 16,
     "metadata": {},
     "output_type": "execute_result"
    }
   ],
   "source": [
    "datetime.now().strftime(\"%Y%m%d-%H%M%S\") "
   ]
  },
  {
   "cell_type": "markdown",
   "id": "b27cb7ce",
   "metadata": {},
   "source": [
    "현재 날짜와 시각을 디렉토리 이름으로 이용해 로그 디렉토리를 생성 "
   ]
  },
  {
   "cell_type": "code",
   "execution_count": 17,
   "id": "9ffcd3ca",
   "metadata": {},
   "outputs": [],
   "source": [
    "logdir=\"logs\\\\\" + datetime.now().strftime(\"%Y%m%d-%H%M%S\")"
   ]
  },
  {
   "cell_type": "code",
   "execution_count": 18,
   "id": "6f2a7be4",
   "metadata": {},
   "outputs": [
    {
     "data": {
      "text/plain": [
       "'logs\\\\20211221-234529'"
      ]
     },
     "execution_count": 18,
     "metadata": {},
     "output_type": "execute_result"
    }
   ],
   "source": [
    "# 로그 디렉토리\n",
    "logdir "
   ]
  },
  {
   "cell_type": "code",
   "execution_count": 19,
   "id": "f5fa2b16",
   "metadata": {},
   "outputs": [
    {
     "data": {
      "text/plain": [
       "'C:\\\\ai\\\\SW_HW\\\\final'"
      ]
     },
     "execution_count": 19,
     "metadata": {},
     "output_type": "execute_result"
    }
   ],
   "source": [
    "import os\n",
    "os.getcwd()  # 현재 디렉토리 확인 "
   ]
  },
  {
   "cell_type": "markdown",
   "id": "bfb62110",
   "metadata": {},
   "source": [
    "Keras TensorBoard 콜백을 정의"
   ]
  },
  {
   "cell_type": "markdown",
   "id": "d7b3c4bb",
   "metadata": {},
   "source": [
    "콜백: 다른 함수의 인자로 넘겨진 다음, 특정 이벤트에 의해 호출되는 함수"
   ]
  },
  {
   "cell_type": "code",
   "execution_count": 20,
   "id": "e03a1a2e",
   "metadata": {},
   "outputs": [],
   "source": [
    "tensorboard_callback = tf.keras.callbacks.TensorBoard(log_dir=logdir, histogram_freq=1)"
   ]
  },
  {
   "cell_type": "markdown",
   "id": "46caf386",
   "metadata": {},
   "source": [
    "#### 딥러닝 구조를 결정(모델을 설정)"
   ]
  },
  {
   "cell_type": "code",
   "execution_count": 21,
   "id": "6a696734",
   "metadata": {},
   "outputs": [],
   "source": [
    "#keras에서 제공되는 Sequential 모델 \n",
    "model = Sequential()\n",
    "\n",
    "#1번째 층 : 입력 x는 9개, 출력은 12개, 활성화함수 relu \n",
    "model.add(Dense(12, input_dim=9, activation='relu'))\n",
    "\n",
    "#2번째 층 : 입력 x는 12개, 출력은 9개, 활성화함수 relu \n",
    "model.add(Dense(8, activation='relu'))\n",
    "\n",
    "#3번째 층 : 입력 x는 9개, 출력은 1개, 활성화함수 linear\n",
    "model.add(Dense(1, activation='linear'))"
   ]
  },
  {
   "cell_type": "code",
   "execution_count": 22,
   "id": "459f6137",
   "metadata": {},
   "outputs": [
    {
     "data": {
      "text/plain": [
       "<tensorflow.python.keras.engine.sequential.Sequential at 0x180202867f0>"
      ]
     },
     "execution_count": 22,
     "metadata": {},
     "output_type": "execute_result"
    }
   ],
   "source": [
    "model"
   ]
  },
  {
   "cell_type": "markdown",
   "id": "c76307d7",
   "metadata": {},
   "source": [
    "summary() 함수로 모델 설명 보기"
   ]
  },
  {
   "cell_type": "code",
   "execution_count": 23,
   "id": "e7c6f1a2",
   "metadata": {},
   "outputs": [
    {
     "name": "stdout",
     "output_type": "stream",
     "text": [
      "Model: \"sequential\"\n",
      "_________________________________________________________________\n",
      "Layer (type)                 Output Shape              Param #   \n",
      "=================================================================\n",
      "dense (Dense)                (None, 12)                120       \n",
      "_________________________________________________________________\n",
      "dense_1 (Dense)              (None, 8)                 104       \n",
      "_________________________________________________________________\n",
      "dense_2 (Dense)              (None, 1)                 9         \n",
      "=================================================================\n",
      "Total params: 233\n",
      "Trainable params: 233\n",
      "Non-trainable params: 0\n",
      "_________________________________________________________________\n"
     ]
    }
   ],
   "source": [
    "model.summary()"
   ]
  },
  {
   "cell_type": "markdown",
   "id": "745beec2",
   "metadata": {},
   "source": [
    "### 6. 딥러닝 모델 컴파일 및 실행하기"
   ]
  },
  {
   "cell_type": "markdown",
   "id": "3b32366e",
   "metadata": {},
   "source": [
    "keras의 Sequential 모델에서 제공하는 compile() 기능으로 loss(손실 함수), optimizer(정규화기), metrics(평가지표)를 설정한다.  \n",
    "mse: Mean Square Error  \n",
    "adam: Adaptive moment estimation  \n",
    "mae: Mean Absolute Error"
   ]
  },
  {
   "cell_type": "code",
   "execution_count": 24,
   "id": "27c3422f",
   "metadata": {},
   "outputs": [],
   "source": [
    "model.compile(loss='mse', optimizer='adam', metrics=['mae'])"
   ]
  },
  {
   "cell_type": "markdown",
   "id": "fe8a94e6",
   "metadata": {},
   "source": [
    "#### 학습 조기 종료를 위한 EarlyStopping() 함수  \n",
    "monitor : 관찰하고자 하는 항목  \n",
    "patience : monitor에 설정한 항목에 대한 개선이 없을 때 바로 종료하지 않고 개선이 없는 에포크를 얼마나 기다려 줄 것인 가를 지정  \n",
    "mode : 관찰 항목에 대해 개선이 없다고 판단하기 위한 기준을 지정(min : 관찰 중인 항목이 감소되지 않을 때 종료)"
   ]
  },
  {
   "cell_type": "code",
   "execution_count": 25,
   "id": "e00cd979",
   "metadata": {},
   "outputs": [],
   "source": [
    "early_stopping = EarlyStopping(monitor='val_loss', patience=10, mode='min')"
   ]
  },
  {
   "cell_type": "markdown",
   "id": "f33f0c26",
   "metadata": {},
   "source": [
    "batch_size=10로 하면 2696개의 데이터를 10개씩 처리하므로 실행 결과에서 270/270 출력   \n",
    "epochs : 학습의 횟수 의미 "
   ]
  },
  {
   "cell_type": "code",
   "execution_count": 26,
   "id": "cec46eb6",
   "metadata": {
    "scrolled": true
   },
   "outputs": [
    {
     "name": "stdout",
     "output_type": "stream",
     "text": [
      "Epoch 1/50\n",
      "  1/270 [..............................] - ETA: 0s - loss: 186.1571 - mae: 12.5851WARNING:tensorflow:From C:\\Users\\x\\anaconda3\\lib\\site-packages\\tensorflow\\python\\ops\\summary_ops_v2.py:1277: stop (from tensorflow.python.eager.profiler) is deprecated and will be removed after 2020-07-01.\n",
      "Instructions for updating:\n",
      "use `tf.profiler.experimental.stop` instead.\n",
      "WARNING:tensorflow:Callbacks method `on_train_batch_end` is slow compared to the batch time (batch time: 0.0000s vs `on_train_batch_end` time: 0.0342s). Check your callbacks.\n",
      "270/270 [==============================] - 1s 2ms/step - loss: 37.3301 - mae: 4.9098 - val_loss: 18.2400 - val_mae: 3.4999\n",
      "Epoch 2/50\n",
      "270/270 [==============================] - 0s 1ms/step - loss: 17.5713 - mae: 3.4179 - val_loss: 14.9117 - val_mae: 3.1103\n",
      "Epoch 3/50\n",
      "270/270 [==============================] - 0s 1ms/step - loss: 14.2251 - mae: 2.9968 - val_loss: 11.5876 - val_mae: 2.6421\n",
      "Epoch 4/50\n",
      "270/270 [==============================] - 0s 1ms/step - loss: 10.7387 - mae: 2.4998 - val_loss: 8.5297 - val_mae: 2.2272\n",
      "Epoch 5/50\n",
      "270/270 [==============================] - 0s 1ms/step - loss: 8.0304 - mae: 2.0871 - val_loss: 6.3670 - val_mae: 1.8471\n",
      "Epoch 6/50\n",
      "270/270 [==============================] - 0s 1ms/step - loss: 6.6275 - mae: 1.8730 - val_loss: 5.6197 - val_mae: 1.7197\n",
      "Epoch 7/50\n",
      "270/270 [==============================] - 0s 1ms/step - loss: 6.0371 - mae: 1.7793 - val_loss: 5.4258 - val_mae: 1.6149\n",
      "Epoch 8/50\n",
      "270/270 [==============================] - ETA: 0s - loss: 5.8883 - mae: 1.742 - 0s 1ms/step - loss: 5.8034 - mae: 1.7369 - val_loss: 5.1575 - val_mae: 1.6203\n",
      "Epoch 9/50\n",
      "270/270 [==============================] - 0s 1ms/step - loss: 5.6445 - mae: 1.7095 - val_loss: 5.5133 - val_mae: 1.8175\n",
      "Epoch 10/50\n",
      "270/270 [==============================] - 0s 1ms/step - loss: 5.5600 - mae: 1.6877 - val_loss: 5.3044 - val_mae: 1.7607\n",
      "Epoch 11/50\n",
      "270/270 [==============================] - 0s 1ms/step - loss: 5.5641 - mae: 1.6968 - val_loss: 5.1111 - val_mae: 1.6895\n",
      "Epoch 12/50\n",
      "270/270 [==============================] - 0s 1ms/step - loss: 5.5059 - mae: 1.6830 - val_loss: 5.1362 - val_mae: 1.5561\n",
      "Epoch 13/50\n",
      "270/270 [==============================] - 0s 1ms/step - loss: 5.4951 - mae: 1.6770 - val_loss: 5.1480 - val_mae: 1.7153\n",
      "Epoch 14/50\n",
      "270/270 [==============================] - 0s 974us/step - loss: 5.4877 - mae: 1.6855 - val_loss: 4.9942 - val_mae: 1.6531\n",
      "Epoch 15/50\n",
      "270/270 [==============================] - 0s 1ms/step - loss: 5.4326 - mae: 1.6684 - val_loss: 4.8955 - val_mae: 1.5860\n",
      "Epoch 16/50\n",
      "270/270 [==============================] - 0s 1ms/step - loss: 5.4490 - mae: 1.6676 - val_loss: 5.7940 - val_mae: 1.9146\n",
      "Epoch 17/50\n",
      "270/270 [==============================] - 0s 1ms/step - loss: 5.4035 - mae: 1.6609 - val_loss: 4.8539 - val_mae: 1.5846\n",
      "Epoch 18/50\n",
      "270/270 [==============================] - 1s 2ms/step - loss: 5.3612 - mae: 1.6533 - val_loss: 5.0657 - val_mae: 1.6966\n",
      "Epoch 19/50\n",
      "270/270 [==============================] - 0s 1ms/step - loss: 5.5120 - mae: 1.6830 - val_loss: 4.8439 - val_mae: 1.5873\n",
      "Epoch 20/50\n",
      "270/270 [==============================] - 0s 1ms/step - loss: 5.3742 - mae: 1.6537 - val_loss: 4.9883 - val_mae: 1.6724\n",
      "Epoch 21/50\n",
      "270/270 [==============================] - 0s 1ms/step - loss: 5.3943 - mae: 1.6567 - val_loss: 4.8903 - val_mae: 1.6312\n",
      "Epoch 22/50\n",
      "270/270 [==============================] - 0s 1ms/step - loss: 5.3603 - mae: 1.6538 - val_loss: 4.8301 - val_mae: 1.5987\n",
      "Epoch 23/50\n",
      "270/270 [==============================] - 1s 3ms/step - loss: 5.3931 - mae: 1.6579 - val_loss: 4.9938 - val_mae: 1.5197\n",
      "Epoch 24/50\n",
      "270/270 [==============================] - 0s 1ms/step - loss: 5.3012 - mae: 1.6462 - val_loss: 4.7929 - val_mae: 1.5610\n",
      "Epoch 25/50\n",
      "270/270 [==============================] - 0s 950us/step - loss: 5.4049 - mae: 1.6564 - val_loss: 4.8342 - val_mae: 1.6068\n",
      "Epoch 26/50\n",
      "270/270 [==============================] - 0s 1ms/step - loss: 5.4071 - mae: 1.6640 - val_loss: 4.7959 - val_mae: 1.5714\n",
      "Epoch 27/50\n",
      "270/270 [==============================] - 0s 1ms/step - loss: 5.3935 - mae: 1.6538 - val_loss: 4.8368 - val_mae: 1.6041\n",
      "Epoch 28/50\n",
      "270/270 [==============================] - 0s 1ms/step - loss: 5.3210 - mae: 1.6496 - val_loss: 4.8082 - val_mae: 1.5401\n",
      "Epoch 29/50\n",
      "270/270 [==============================] - 0s 1ms/step - loss: 5.3358 - mae: 1.6478 - val_loss: 5.1167 - val_mae: 1.7242\n",
      "Epoch 30/50\n",
      "270/270 [==============================] - 0s 1ms/step - loss: 5.3513 - mae: 1.6540 - val_loss: 4.7713 - val_mae: 1.5590\n",
      "Epoch 31/50\n",
      "270/270 [==============================] - 0s 1ms/step - loss: 5.3416 - mae: 1.6515 - val_loss: 4.7881 - val_mae: 1.5792\n",
      "Epoch 32/50\n",
      "270/270 [==============================] - 1s 3ms/step - loss: 5.3264 - mae: 1.6436 - val_loss: 4.8040 - val_mae: 1.5455\n",
      "Epoch 33/50\n",
      "270/270 [==============================] - 0s 1ms/step - loss: 5.3213 - mae: 1.6392 - val_loss: 5.5433 - val_mae: 1.8571\n",
      "Epoch 34/50\n",
      "270/270 [==============================] - 0s 2ms/step - loss: 5.3754 - mae: 1.6543 - val_loss: 4.8413 - val_mae: 1.6202\n",
      "Epoch 35/50\n",
      "270/270 [==============================] - 0s 2ms/step - loss: 5.3730 - mae: 1.6480 - val_loss: 4.7525 - val_mae: 1.5679\n",
      "Epoch 36/50\n",
      "270/270 [==============================] - 0s 1ms/step - loss: 5.3228 - mae: 1.6432 - val_loss: 4.7745 - val_mae: 1.5900\n",
      "Epoch 37/50\n",
      "270/270 [==============================] - 0s 959us/step - loss: 5.3317 - mae: 1.6502 - val_loss: 4.9683 - val_mae: 1.5107\n",
      "Epoch 38/50\n",
      "270/270 [==============================] - 0s 1ms/step - loss: 5.3598 - mae: 1.6448 - val_loss: 5.3877 - val_mae: 1.8076\n",
      "Epoch 39/50\n",
      "270/270 [==============================] - 0s 1ms/step - loss: 5.3853 - mae: 1.6499 - val_loss: 4.7878 - val_mae: 1.5168\n",
      "Epoch 40/50\n",
      "270/270 [==============================] - 0s 1ms/step - loss: 5.3969 - mae: 1.6545 - val_loss: 4.7619 - val_mae: 1.5411\n",
      "Epoch 41/50\n",
      "270/270 [==============================] - 0s 2ms/step - loss: 5.3208 - mae: 1.6423 - val_loss: 4.9806 - val_mae: 1.6817\n",
      "Epoch 42/50\n",
      "270/270 [==============================] - 0s 971us/step - loss: 5.2772 - mae: 1.6321 - val_loss: 4.7542 - val_mae: 1.5445\n",
      "Epoch 43/50\n",
      "270/270 [==============================] - 0s 1ms/step - loss: 5.3609 - mae: 1.6534 - val_loss: 4.8796 - val_mae: 1.6479\n",
      "Epoch 44/50\n",
      "270/270 [==============================] - 0s 871us/step - loss: 5.3361 - mae: 1.6338 - val_loss: 4.9005 - val_mae: 1.6490\n",
      "Epoch 45/50\n",
      "270/270 [==============================] - 0s 1ms/step - loss: 5.3459 - mae: 1.6419 - val_loss: 4.7517 - val_mae: 1.5266\n",
      "Epoch 46/50\n",
      "270/270 [==============================] - 0s 1ms/step - loss: 5.3113 - mae: 1.6396 - val_loss: 4.7814 - val_mae: 1.5924\n",
      "Epoch 47/50\n",
      "270/270 [==============================] - 0s 966us/step - loss: 5.3682 - mae: 1.6452 - val_loss: 4.7343 - val_mae: 1.5632\n",
      "Epoch 48/50\n",
      "270/270 [==============================] - 0s 998us/step - loss: 5.3060 - mae: 1.6407 - val_loss: 4.7852 - val_mae: 1.5266\n",
      "Epoch 49/50\n",
      "270/270 [==============================] - 0s 1ms/step - loss: 5.3024 - mae: 1.6440 - val_loss: 4.7848 - val_mae: 1.5994\n",
      "Epoch 50/50\n",
      "270/270 [==============================] - 0s 1ms/step - loss: 5.2895 - mae: 1.6250 - val_loss: 4.7601 - val_mae: 1.5869\n"
     ]
    }
   ],
   "source": [
    "# 그래프를 그리기 위해 model.fit 부분에 callbacks=[tensorboard_callback] 사용\n",
    "history = model.fit(X_train, Y_train, epochs=50, batch_size=10, validation_data=(X_test, Y_test), callbacks=[tensorboard_callback, early_stopping])"
   ]
  },
  {
   "cell_type": "markdown",
   "id": "95f51c33",
   "metadata": {},
   "source": [
    "#### 딥러닝 실행 후 loss, mae 출력해보기"
   ]
  },
  {
   "cell_type": "code",
   "execution_count": 27,
   "id": "d594192b",
   "metadata": {},
   "outputs": [
    {
     "data": {
      "text/plain": [
       "<tensorflow.python.keras.callbacks.History at 0x18020a665b0>"
      ]
     },
     "execution_count": 27,
     "metadata": {},
     "output_type": "execute_result"
    }
   ],
   "source": [
    "history # 콜백"
   ]
  },
  {
   "cell_type": "markdown",
   "id": "3d91360c",
   "metadata": {},
   "source": [
    "cmd 창에서 Keras TensorBoard를 확인할 수 있다.  \n",
    "나의 경우는 다음과 같이 입력하여 확인할 수 있었다."
   ]
  },
  {
   "cell_type": "markdown",
   "id": "9f6cf000",
   "metadata": {},
   "source": [
    "C:\\Users\\x>  \n",
    "\n",
    "현재 작업 디렉토리로 이동\n",
    "C:\\Users\\x>cd C:\\ai\\SW_HW\\final  \n",
    "\n",
    "tensorboard --logdir=.\\ 를 입력하고 위에서 설정한 로그 디렉토리를 뒤에 붙여줌\n",
    "C:\\ai\\SW_HW\\final>tensorboard --logdir=.\\logs\\\\20211221-200029  \n",
    "\n",
    "아래와 같은 문구가 나오고 주소를 copy하여 크롬에 주소창에 입력\n",
    "Serving TensorBoard on localhost; to expose to the network, use a proxy or pass --bind_all\n",
    "TensorBoard 2.4.0 at http://localhost:6006/ (Press CTRL+C to quit)"
   ]
  },
  {
   "cell_type": "code",
   "execution_count": 28,
   "id": "12bd76ff",
   "metadata": {},
   "outputs": [
    {
     "name": "stdout",
     "output_type": "stream",
     "text": [
      "[37.33009338378906, 17.571258544921875, 14.225144386291504, 10.738670349121094, 8.030350685119629, 6.627478122711182, 6.037097930908203, 5.803431034088135, 5.644476413726807, 5.559966087341309, 5.564120769500732, 5.505855560302734, 5.495103359222412, 5.487698554992676, 5.432581901550293, 5.449041366577148, 5.403472900390625, 5.361240386962891, 5.512025356292725, 5.374244213104248, 5.394309997558594, 5.360284328460693, 5.393057346343994, 5.301196098327637, 5.404922008514404, 5.4070916175842285, 5.393502712249756, 5.3209967613220215, 5.335764408111572, 5.351325035095215, 5.341629981994629, 5.3264384269714355, 5.321289539337158, 5.375435829162598, 5.373011589050293, 5.322828769683838, 5.331732749938965, 5.359751224517822, 5.385314464569092, 5.39692497253418, 5.320846080780029, 5.277155876159668, 5.360908508300781, 5.3361430168151855, 5.3459086418151855, 5.311273097991943, 5.3681960105896, 5.305985450744629, 5.302430629730225, 5.289489269256592]\n"
     ]
    }
   ],
   "source": [
    "print(history.history['loss'])"
   ]
  },
  {
   "cell_type": "code",
   "execution_count": 29,
   "id": "d83efd88",
   "metadata": {},
   "outputs": [
    {
     "name": "stdout",
     "output_type": "stream",
     "text": [
      "[4.909797191619873, 3.417940378189087, 2.996842861175537, 2.4997870922088623, 2.0870726108551025, 1.8729848861694336, 1.779295802116394, 1.7368645668029785, 1.709478497505188, 1.6876758337020874, 1.696815013885498, 1.6830475330352783, 1.6769943237304688, 1.6854854822158813, 1.6683826446533203, 1.6675963401794434, 1.6608667373657227, 1.653298258781433, 1.6829512119293213, 1.6537352800369263, 1.6567392349243164, 1.6538364887237549, 1.6579240560531616, 1.6461962461471558, 1.6564408540725708, 1.6640129089355469, 1.6538082361221313, 1.649598479270935, 1.6478487253189087, 1.6539955139160156, 1.6515276432037354, 1.6435978412628174, 1.6391559839248657, 1.654273509979248, 1.6479840278625488, 1.6431995630264282, 1.6502238512039185, 1.6448434591293335, 1.6498643159866333, 1.654491901397705, 1.6422923803329468, 1.632064700126648, 1.653359293937683, 1.6337794065475464, 1.6419031620025635, 1.639577031135559, 1.6452486515045166, 1.6406989097595215, 1.6440147161483765, 1.6250349283218384]\n"
     ]
    }
   ],
   "source": [
    "print(history.history['mae'])"
   ]
  },
  {
   "cell_type": "markdown",
   "id": "bd914298",
   "metadata": {},
   "source": [
    "### 7. 딥러닝 평가하기"
   ]
  },
  {
   "cell_type": "markdown",
   "id": "0f2399a9",
   "metadata": {},
   "source": [
    "#### keras의 Sequential 모델에서 제공하는 model.evaluate( ) 함수 사용\n",
    "return value : [mse, mae]"
   ]
  },
  {
   "cell_type": "code",
   "execution_count": 30,
   "id": "9fc8ba51",
   "metadata": {},
   "outputs": [
    {
     "name": "stdout",
     "output_type": "stream",
     "text": [
      "-> 테스트 데이터 개수 :  1156 개\n",
      "1156/1156 [==============================] - 1s 854us/step - loss: 4.7601 - mae: 1.5869\n",
      "-> [mse, mae] = [4.760054588317871, 1.5868895053863525]\n"
     ]
    }
   ],
   "source": [
    "print('-> 테스트 데이터 개수 : ', len(X_test), '개')\n",
    "ev = model.evaluate(X_test, Y_test, batch_size=1)\n",
    "print('-> [mse, mae] =' , ev) "
   ]
  },
  {
   "cell_type": "markdown",
   "id": "1358f2e7",
   "metadata": {},
   "source": [
    "전체 데이터의 30%에 해당하는 1156개의 테스트 데이터셋으로 MAE() 계산 결과를 출력  \n",
    "batch_size=10 : 1156개의 데이터를 10개씩 처리하므로 실행 결과에서 116/116 출력"
   ]
  },
  {
   "cell_type": "code",
   "execution_count": 31,
   "id": "e9713d97",
   "metadata": {},
   "outputs": [
    {
     "name": "stdout",
     "output_type": "stream",
     "text": [
      "116/116 [==============================] - 0s 510us/step - loss: 4.7601 - mae: 1.5869\n",
      "\n",
      " MAE : 1.5869\n"
     ]
    }
   ],
   "source": [
    "print(\"\\n MAE : %.4f\" % (model.evaluate(X_test, Y_test, batch_size=10)[1])) "
   ]
  },
  {
   "cell_type": "markdown",
   "id": "dde675ea",
   "metadata": {},
   "source": [
    "MAE 값이 1.5869가 나왔으므로 꽃게 나이 예측의 평균적인 오차값은 1.5869개월이라는 것을 알 수 있다.  "
   ]
  },
  {
   "cell_type": "markdown",
   "id": "f28f53f0",
   "metadata": {},
   "source": [
    "#### 그래프를 통해 loss를 시각화 "
   ]
  },
  {
   "cell_type": "code",
   "execution_count": 32,
   "id": "85e307b8",
   "metadata": {},
   "outputs": [
    {
     "data": {
      "image/png": "[encoded data removed]",
      "text/plain": [
       "<Figure size 432x360 with 1 Axes>"
      ]
     },
     "metadata": {
      "needs_background": "light"
     },
     "output_type": "display_data"
    }
   ],
   "source": [
    "font_path = \"C:\\\\Windows\\\\Fonts\\\\HMFMMUEX.TTC\"\n",
    "font_name = matplotlib.font_manager.FontProperties(fname=font_path).get_name()\n",
    "plt.rc('font', family=font_name, size=11) \n",
    "plt.figure(figsize=(6,5))\n",
    "\n",
    "plt.title('loss(MSE) 비교 ', fontsize=14)\n",
    "plt.plot(history.history['loss'])      # 트레이닝 데이터셋의 loss\n",
    "plt.plot(history.history['val_loss'])  # 테스트 데이터셋의 loss\n",
    "plt.legend(['loss','val_loss']) # 범례\n",
    "plt.grid()\n",
    "plt.show()"
   ]
  },
  {
   "cell_type": "markdown",
   "id": "1240c72e",
   "metadata": {},
   "source": [
    "위의 그래프를 보면 트레이닝 데이터셋의 loss와 테스트 데이터셋의 loss 모두 epochs가 증가할수록 감소하는 경향을 보임을 확인할 수 있었다. 그런데 특이한 점은 테스트 데이터셋의 loss가 트레이닝 데이터셋의 loss 보다 더 작은 경향을 보인다는 것이다.  "
   ]
  },
  {
   "cell_type": "markdown",
   "id": "3a81e32a",
   "metadata": {},
   "source": [
    "#### 그래프를 통해 MAE를 시각화 "
   ]
  },
  {
   "cell_type": "code",
   "execution_count": 33,
   "id": "aa78261c",
   "metadata": {},
   "outputs": [
    {
     "data": {
      "image/png": "[encoded data removed]",
      "text/plain": [
       "<Figure size 432x360 with 1 Axes>"
      ]
     },
     "metadata": {
      "needs_background": "light"
     },
     "output_type": "display_data"
    }
   ],
   "source": [
    "plt.rc('font', family=font_name, size=11) \n",
    "plt.figure(figsize=(6,5))\n",
    "\n",
    "plt.title('MAE 비교', fontsize=14)\n",
    "plt.plot(history.history['mae'])      # 트레이닝 데이터셋의 mae\n",
    "plt.plot(history.history['val_mae'])  # 테스트 데이터셋의 mae\n",
    "plt.legend(['mae','val_mae']) # 범례\n",
    "plt.grid()\n",
    "plt.show()"
   ]
  },
  {
   "cell_type": "markdown",
   "id": "4cb1d2a4",
   "metadata": {},
   "source": [
    "### 8. 새로운 데이터를 위의 딥러닝 모델을 사용하여 예측하기 "
   ]
  },
  {
   "cell_type": "markdown",
   "id": "8a5ef86d",
   "metadata": {},
   "source": [
    "keras의 Sequential 모델에서 제공하는 predict() 함수를 사용  \n",
    "아직 학습과 테스트에 사용하지 않은 데이터를 사용해 예측하였다."
   ]
  },
  {
   "cell_type": "code",
   "execution_count": 34,
   "id": "f08331ae",
   "metadata": {},
   "outputs": [
    {
     "name": "stdout",
     "output_type": "stream",
     "text": [
      "crab1 나이 예측 : 11 개월\n",
      "crab2 나이 예측 : 8 개월\n"
     ]
    }
   ],
   "source": [
    "# Length, Diameter, Height, Weight, Viscera Weight, Shell Weight, Sex_F, Sex_I, Sex_M\n",
    "crab1 = np.array([[1.5305, 1.185, 0.4135, 24.7356155, 5.5858415, 6.749191, 1, 0, 0]])\n",
    "crab2 = np.array([[0.8975,0.67,0.2305,5.50050975,1.37645075,1.5602225,0,0,1]])\n",
    "\n",
    "test_crab1 = model.predict(crab1)\n",
    "test_crab2 = model.predict(crab2)\n",
    "\n",
    "print(\"crab1 나이 예측 : %.f\" %test_crab1, \"개월\")\n",
    "print(\"crab2 나이 예측 : %.f\" %test_crab2, \"개월\")"
   ]
  },
  {
   "cell_type": "markdown",
   "id": "e2c5e82e",
   "metadata": {},
   "source": [
    "# 실제 데이터를 바탕으로 만든 가상의 꽃게 데이터에서 딥러닝 모델이 꽤 정확하게 동작함을 확인할 수 있었다.  \n",
    "crab1은 데이터 셋의 첫 번째 crab 데이터의 각 독립변수들을 조금씩 증가시켜 생후 11개월 정도의 crab을 만들었고, crab2는 데이터 셋의 두 번째 crab 데이터의 각 독립변수들을 조금씩 증가시켜 생후 8개월 정도의 crab을 만든 것이다."
   ]
  },
  {
   "cell_type": "markdown",
   "id": "6a58d902",
   "metadata": {},
   "source": [
    "### 9. 학습 모델 저장하기"
   ]
  },
  {
   "cell_type": "code",
   "execution_count": 35,
   "id": "925be9a6",
   "metadata": {},
   "outputs": [],
   "source": [
    "model.save('CrabAge1.h5') "
   ]
  },
  {
   "cell_type": "markdown",
   "id": "398ca1ef",
   "metadata": {},
   "source": [
    "### 10. 분석"
   ]
  },
  {
   "cell_type": "markdown",
   "id": "7fcdae53",
   "metadata": {},
   "source": [
    "데이터셋의 꽃게의 나이가 적게는 5개월에서 많게는 23개월이기 때문에 꽃게 나이 예측의 평균적인 오차값이 1.5869개월인 것은 상당히 예측이 잘 되었다고 생각한다. 그 이유는 데이터셋 정제가 상당히 잘 되었고, 과적합을 막기 위해 EarlyStopping() 함수를 사용하는 등의 노력을 기울여서일 것이라고 생각한다. 또한, 꽃게의 나이가 Length, Diameter, Height, Weight, Viscera Weight, Shell Weight에 대해 높은 양의 상관관계를 가지고 있었기 때문에 나이 예측이 수월했었다고 생각한다.  \n",
    "이후 나는 딥러닝 모델에서 똑같이 3개의 층을 사용하는 대신 K겹 교차 검증 방식과 validation_split을 이용해 학습 과정에서 loss와 val_loss를 비교하는 방법을 사용해 어떤 딥러닝 모델이 가장 오차가 작은지 알아보고자 한다."
   ]
  },
  {
   "cell_type": "code",
   "execution_count": null,
   "id": "8730e6e5",
   "metadata": {},
   "outputs": [],
   "source": []
  }
 ],
 "metadata": {
  "kernelspec": {
   "display_name": "Python 3",
   "language": "python",
   "name": "python3"
  },
  "language_info": {
   "codemirror_mode": {
    "name": "ipython",
    "version": 3
   },
   "file_extension": ".py",
   "mimetype": "text/x-python",
   "name": "python",
   "nbconvert_exporter": "python",
   "pygments_lexer": "ipython3",
   "version": "3.8.8"
  }
 },
 "nbformat": 4,
 "nbformat_minor": 5
}
