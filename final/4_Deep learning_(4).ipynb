{
 "cells": [
  {
   "cell_type": "markdown",
   "id": "660a4475",
   "metadata": {},
   "source": [
    "## 남방톱날꽃게(청게)의 나이 예측 딥러닝 모델 구현 4"
   ]
  },
  {
   "cell_type": "markdown",
   "id": "282a42cb",
   "metadata": {},
   "source": [
    "본 소스 파일에서는 홀드 아웃 교차 검증의 방법을 사용하여 70%의 데이터셋을 학습 데이터셋으로 사용하였고, 과적합 방지를 위해 validation_split을 이용해 학습 과정에서 loss와 val_loss를 비교하는 방법을 사용하였다. 또한, 과적합을 막기 위해 EarlyStopping() 함수를 이용하여 학습 자동 중단 과정을 설정하였다.    다중 선형 회귀 분석의 방법을 사용하여 정확도를 MAE(Mean Absolute Error)를 이용해 평가하였다."
   ]
  },
  {
   "cell_type": "markdown",
   "id": "a4d6c55e",
   "metadata": {},
   "source": [
    "### 1. 필요한 라이브러리 import하기"
   ]
  },
  {
   "cell_type": "code",
   "execution_count": 1,
   "id": "dcff1ede",
   "metadata": {},
   "outputs": [],
   "source": [
    "from tensorflow.keras.models import Sequential\n",
    "from tensorflow.keras.layers import Dense\n",
    "from tensorflow.keras.callbacks import EarlyStopping\n",
    "\n",
    "import pandas as pd\n",
    "import seaborn as sns\n",
    "import matplotlib.pyplot as plt\n",
    "import matplotlib.font_manager   # 한글 사용을 위해 import\n",
    "import numpy as np\n",
    "import tensorflow as tf"
   ]
  },
  {
   "cell_type": "markdown",
   "id": "73c90658",
   "metadata": {},
   "source": [
    "tensorflow 버전 확인하기"
   ]
  },
  {
   "cell_type": "code",
   "execution_count": 2,
   "id": "24ff4929",
   "metadata": {},
   "outputs": [
    {
     "name": "stdout",
     "output_type": "stream",
     "text": [
      "TensorFlow version:  2.3.0\n"
     ]
    }
   ],
   "source": [
    "print(\"TensorFlow version: \", tf.__version__)"
   ]
  },
  {
   "cell_type": "markdown",
   "id": "3b46fbbc",
   "metadata": {},
   "source": [
    "tensorboard import & version 확인하기"
   ]
  },
  {
   "cell_type": "code",
   "execution_count": 3,
   "id": "2f80c72c",
   "metadata": {},
   "outputs": [
    {
     "data": {
      "text/plain": [
       "'2.4.0'"
      ]
     },
     "execution_count": 3,
     "metadata": {},
     "output_type": "execute_result"
    }
   ],
   "source": [
    "import tensorboard\n",
    "\n",
    "tensorboard.__version__"
   ]
  },
  {
   "cell_type": "markdown",
   "id": "f8d16c70",
   "metadata": {},
   "source": [
    "### 2. 데이터셋 가져오기"
   ]
  },
  {
   "cell_type": "markdown",
   "id": "18e268d3",
   "metadata": {},
   "source": [
    "상대경로를 사용하여 최종적으로 가공된 데이터셋을 가져온다."
   ]
  },
  {
   "cell_type": "code",
   "execution_count": 4,
   "id": "e22db6c8",
   "metadata": {},
   "outputs": [],
   "source": [
    "filepath = \"./3_Dataset.csv\""
   ]
  },
  {
   "cell_type": "code",
   "execution_count": 5,
   "id": "6850948b",
   "metadata": {},
   "outputs": [],
   "source": [
    "df = pd.read_csv(filepath)"
   ]
  },
  {
   "cell_type": "code",
   "execution_count": 6,
   "id": "e960f4a9",
   "metadata": {},
   "outputs": [
    {
     "data": {
      "text/html": [
       "<div>\n",
       "<style scoped>\n",
       "    .dataframe tbody tr th:only-of-type {\n",
       "        vertical-align: middle;\n",
       "    }\n",
       "\n",
       "    .dataframe tbody tr th {\n",
       "        vertical-align: top;\n",
       "    }\n",
       "\n",
       "    .dataframe thead th {\n",
       "        text-align: right;\n",
       "    }\n",
       "</style>\n",
       "<table border=\"1\" class=\"dataframe\">\n",
       "  <thead>\n",
       "    <tr style=\"text-align: right;\">\n",
       "      <th></th>\n",
       "      <th>Length</th>\n",
       "      <th>Diameter</th>\n",
       "      <th>Height</th>\n",
       "      <th>Weight</th>\n",
       "      <th>Viscera Weight</th>\n",
       "      <th>Shell Weight</th>\n",
       "      <th>Age</th>\n",
       "      <th>Sex_F</th>\n",
       "      <th>Sex_I</th>\n",
       "      <th>Sex_M</th>\n",
       "    </tr>\n",
       "  </thead>\n",
       "  <tbody>\n",
       "    <tr>\n",
       "      <th>0</th>\n",
       "      <td>1.4375</td>\n",
       "      <td>1.1750</td>\n",
       "      <td>0.4125</td>\n",
       "      <td>24.635715</td>\n",
       "      <td>5.584852</td>\n",
       "      <td>6.747181</td>\n",
       "      <td>9</td>\n",
       "      <td>1</td>\n",
       "      <td>0</td>\n",
       "      <td>0</td>\n",
       "    </tr>\n",
       "    <tr>\n",
       "      <th>1</th>\n",
       "      <td>0.8875</td>\n",
       "      <td>0.6500</td>\n",
       "      <td>0.2125</td>\n",
       "      <td>5.400580</td>\n",
       "      <td>1.374951</td>\n",
       "      <td>1.559222</td>\n",
       "      <td>6</td>\n",
       "      <td>0</td>\n",
       "      <td>0</td>\n",
       "      <td>1</td>\n",
       "    </tr>\n",
       "    <tr>\n",
       "      <th>2</th>\n",
       "      <td>1.0375</td>\n",
       "      <td>0.7750</td>\n",
       "      <td>0.2500</td>\n",
       "      <td>7.952035</td>\n",
       "      <td>1.601747</td>\n",
       "      <td>2.764076</td>\n",
       "      <td>6</td>\n",
       "      <td>0</td>\n",
       "      <td>1</td>\n",
       "      <td>0</td>\n",
       "    </tr>\n",
       "    <tr>\n",
       "      <th>3</th>\n",
       "      <td>1.1750</td>\n",
       "      <td>0.8875</td>\n",
       "      <td>0.2500</td>\n",
       "      <td>13.480187</td>\n",
       "      <td>2.282135</td>\n",
       "      <td>5.244657</td>\n",
       "      <td>10</td>\n",
       "      <td>1</td>\n",
       "      <td>0</td>\n",
       "      <td>0</td>\n",
       "    </tr>\n",
       "    <tr>\n",
       "      <th>4</th>\n",
       "      <td>0.8875</td>\n",
       "      <td>0.6625</td>\n",
       "      <td>0.2125</td>\n",
       "      <td>6.903103</td>\n",
       "      <td>1.488349</td>\n",
       "      <td>1.700970</td>\n",
       "      <td>6</td>\n",
       "      <td>0</td>\n",
       "      <td>1</td>\n",
       "      <td>0</td>\n",
       "    </tr>\n",
       "    <tr>\n",
       "      <th>...</th>\n",
       "      <td>...</td>\n",
       "      <td>...</td>\n",
       "      <td>...</td>\n",
       "      <td>...</td>\n",
       "      <td>...</td>\n",
       "      <td>...</td>\n",
       "      <td>...</td>\n",
       "      <td>...</td>\n",
       "      <td>...</td>\n",
       "      <td>...</td>\n",
       "    </tr>\n",
       "    <tr>\n",
       "      <th>3847</th>\n",
       "      <td>1.4625</td>\n",
       "      <td>1.1375</td>\n",
       "      <td>0.3250</td>\n",
       "      <td>24.819987</td>\n",
       "      <td>5.854172</td>\n",
       "      <td>6.378637</td>\n",
       "      <td>8</td>\n",
       "      <td>1</td>\n",
       "      <td>0</td>\n",
       "      <td>0</td>\n",
       "    </tr>\n",
       "    <tr>\n",
       "      <th>3848</th>\n",
       "      <td>1.5500</td>\n",
       "      <td>1.2125</td>\n",
       "      <td>0.4375</td>\n",
       "      <td>34.458817</td>\n",
       "      <td>7.172423</td>\n",
       "      <td>9.780577</td>\n",
       "      <td>10</td>\n",
       "      <td>1</td>\n",
       "      <td>0</td>\n",
       "      <td>0</td>\n",
       "    </tr>\n",
       "    <tr>\n",
       "      <th>3849</th>\n",
       "      <td>0.6250</td>\n",
       "      <td>0.4625</td>\n",
       "      <td>0.1625</td>\n",
       "      <td>2.012815</td>\n",
       "      <td>0.524466</td>\n",
       "      <td>0.637864</td>\n",
       "      <td>5</td>\n",
       "      <td>0</td>\n",
       "      <td>1</td>\n",
       "      <td>0</td>\n",
       "    </tr>\n",
       "    <tr>\n",
       "      <th>3850</th>\n",
       "      <td>1.0625</td>\n",
       "      <td>0.7750</td>\n",
       "      <td>0.2625</td>\n",
       "      <td>10.347568</td>\n",
       "      <td>2.338834</td>\n",
       "      <td>2.976698</td>\n",
       "      <td>6</td>\n",
       "      <td>0</td>\n",
       "      <td>1</td>\n",
       "      <td>0</td>\n",
       "    </tr>\n",
       "    <tr>\n",
       "      <th>3851</th>\n",
       "      <td>0.7875</td>\n",
       "      <td>0.6125</td>\n",
       "      <td>0.2125</td>\n",
       "      <td>4.068153</td>\n",
       "      <td>1.346601</td>\n",
       "      <td>1.417475</td>\n",
       "      <td>8</td>\n",
       "      <td>0</td>\n",
       "      <td>1</td>\n",
       "      <td>0</td>\n",
       "    </tr>\n",
       "  </tbody>\n",
       "</table>\n",
       "<p>3852 rows × 10 columns</p>\n",
       "</div>"
      ],
      "text/plain": [
       "      Length  Diameter  Height     Weight  Viscera Weight  Shell Weight  Age  \\\n",
       "0     1.4375    1.1750  0.4125  24.635715        5.584852      6.747181    9   \n",
       "1     0.8875    0.6500  0.2125   5.400580        1.374951      1.559222    6   \n",
       "2     1.0375    0.7750  0.2500   7.952035        1.601747      2.764076    6   \n",
       "3     1.1750    0.8875  0.2500  13.480187        2.282135      5.244657   10   \n",
       "4     0.8875    0.6625  0.2125   6.903103        1.488349      1.700970    6   \n",
       "...      ...       ...     ...        ...             ...           ...  ...   \n",
       "3847  1.4625    1.1375  0.3250  24.819987        5.854172      6.378637    8   \n",
       "3848  1.5500    1.2125  0.4375  34.458817        7.172423      9.780577   10   \n",
       "3849  0.6250    0.4625  0.1625   2.012815        0.524466      0.637864    5   \n",
       "3850  1.0625    0.7750  0.2625  10.347568        2.338834      2.976698    6   \n",
       "3851  0.7875    0.6125  0.2125   4.068153        1.346601      1.417475    8   \n",
       "\n",
       "      Sex_F  Sex_I  Sex_M  \n",
       "0         1      0      0  \n",
       "1         0      0      1  \n",
       "2         0      1      0  \n",
       "3         1      0      0  \n",
       "4         0      1      0  \n",
       "...     ...    ...    ...  \n",
       "3847      1      0      0  \n",
       "3848      1      0      0  \n",
       "3849      0      1      0  \n",
       "3850      0      1      0  \n",
       "3851      0      1      0  \n",
       "\n",
       "[3852 rows x 10 columns]"
      ]
     },
     "execution_count": 6,
     "metadata": {},
     "output_type": "execute_result"
    }
   ],
   "source": [
    "df"
   ]
  },
  {
   "cell_type": "markdown",
   "id": "5c66ea07",
   "metadata": {},
   "source": [
    "### 3. 딥러닝을 위해 독립변수(x)와 종속변수(y)로 데이터 분리하기"
   ]
  },
  {
   "cell_type": "code",
   "execution_count": 7,
   "id": "f24d7df5",
   "metadata": {},
   "outputs": [],
   "source": [
    "#종속변수 \n",
    "df_y = df['Age']\n",
    "#독립변수\n",
    "df_x = df.drop(['Age'], axis=1)"
   ]
  },
  {
   "cell_type": "code",
   "execution_count": 8,
   "id": "823de38d",
   "metadata": {},
   "outputs": [
    {
     "data": {
      "text/html": [
       "<div>\n",
       "<style scoped>\n",
       "    .dataframe tbody tr th:only-of-type {\n",
       "        vertical-align: middle;\n",
       "    }\n",
       "\n",
       "    .dataframe tbody tr th {\n",
       "        vertical-align: top;\n",
       "    }\n",
       "\n",
       "    .dataframe thead th {\n",
       "        text-align: right;\n",
       "    }\n",
       "</style>\n",
       "<table border=\"1\" class=\"dataframe\">\n",
       "  <thead>\n",
       "    <tr style=\"text-align: right;\">\n",
       "      <th></th>\n",
       "      <th>Length</th>\n",
       "      <th>Diameter</th>\n",
       "      <th>Height</th>\n",
       "      <th>Weight</th>\n",
       "      <th>Viscera Weight</th>\n",
       "      <th>Shell Weight</th>\n",
       "      <th>Sex_F</th>\n",
       "      <th>Sex_I</th>\n",
       "      <th>Sex_M</th>\n",
       "    </tr>\n",
       "  </thead>\n",
       "  <tbody>\n",
       "    <tr>\n",
       "      <th>0</th>\n",
       "      <td>1.4375</td>\n",
       "      <td>1.1750</td>\n",
       "      <td>0.4125</td>\n",
       "      <td>24.635715</td>\n",
       "      <td>5.584852</td>\n",
       "      <td>6.747181</td>\n",
       "      <td>1</td>\n",
       "      <td>0</td>\n",
       "      <td>0</td>\n",
       "    </tr>\n",
       "    <tr>\n",
       "      <th>1</th>\n",
       "      <td>0.8875</td>\n",
       "      <td>0.6500</td>\n",
       "      <td>0.2125</td>\n",
       "      <td>5.400580</td>\n",
       "      <td>1.374951</td>\n",
       "      <td>1.559222</td>\n",
       "      <td>0</td>\n",
       "      <td>0</td>\n",
       "      <td>1</td>\n",
       "    </tr>\n",
       "    <tr>\n",
       "      <th>2</th>\n",
       "      <td>1.0375</td>\n",
       "      <td>0.7750</td>\n",
       "      <td>0.2500</td>\n",
       "      <td>7.952035</td>\n",
       "      <td>1.601747</td>\n",
       "      <td>2.764076</td>\n",
       "      <td>0</td>\n",
       "      <td>1</td>\n",
       "      <td>0</td>\n",
       "    </tr>\n",
       "    <tr>\n",
       "      <th>3</th>\n",
       "      <td>1.1750</td>\n",
       "      <td>0.8875</td>\n",
       "      <td>0.2500</td>\n",
       "      <td>13.480187</td>\n",
       "      <td>2.282135</td>\n",
       "      <td>5.244657</td>\n",
       "      <td>1</td>\n",
       "      <td>0</td>\n",
       "      <td>0</td>\n",
       "    </tr>\n",
       "    <tr>\n",
       "      <th>4</th>\n",
       "      <td>0.8875</td>\n",
       "      <td>0.6625</td>\n",
       "      <td>0.2125</td>\n",
       "      <td>6.903103</td>\n",
       "      <td>1.488349</td>\n",
       "      <td>1.700970</td>\n",
       "      <td>0</td>\n",
       "      <td>1</td>\n",
       "      <td>0</td>\n",
       "    </tr>\n",
       "  </tbody>\n",
       "</table>\n",
       "</div>"
      ],
      "text/plain": [
       "   Length  Diameter  Height     Weight  Viscera Weight  Shell Weight  Sex_F  \\\n",
       "0  1.4375    1.1750  0.4125  24.635715        5.584852      6.747181      1   \n",
       "1  0.8875    0.6500  0.2125   5.400580        1.374951      1.559222      0   \n",
       "2  1.0375    0.7750  0.2500   7.952035        1.601747      2.764076      0   \n",
       "3  1.1750    0.8875  0.2500  13.480187        2.282135      5.244657      1   \n",
       "4  0.8875    0.6625  0.2125   6.903103        1.488349      1.700970      0   \n",
       "\n",
       "   Sex_I  Sex_M  \n",
       "0      0      0  \n",
       "1      0      1  \n",
       "2      1      0  \n",
       "3      0      0  \n",
       "4      1      0  "
      ]
     },
     "execution_count": 8,
     "metadata": {},
     "output_type": "execute_result"
    }
   ],
   "source": [
    "df_x.head()"
   ]
  },
  {
   "cell_type": "code",
   "execution_count": 9,
   "id": "dce7a6c0",
   "metadata": {},
   "outputs": [
    {
     "data": {
      "text/plain": [
       "0     9\n",
       "1     6\n",
       "2     6\n",
       "3    10\n",
       "4     6\n",
       "Name: Age, dtype: int64"
      ]
     },
     "execution_count": 9,
     "metadata": {},
     "output_type": "execute_result"
    }
   ],
   "source": [
    "df_y.head()"
   ]
  },
  {
   "cell_type": "markdown",
   "id": "dfe4963e",
   "metadata": {},
   "source": [
    "### 4. 데이터셋을 training 데이터셋과 test 데이터셋으로 분리"
   ]
  },
  {
   "cell_type": "code",
   "execution_count": 10,
   "id": "fba8f79f",
   "metadata": {},
   "outputs": [],
   "source": [
    "# 실행할 때마다 같은 결과를 출력하기 위해 아래처럼 설정\n",
    "seed = 2  # seed 값이 같으면 똑같은 랜덤 값을 출력함\n",
    "np.random.seed(seed)\n",
    "tf.random.set_seed(seed)\n",
    "\n",
    "from sklearn.model_selection import train_test_split "
   ]
  },
  {
   "cell_type": "code",
   "execution_count": 11,
   "id": "e7f5bbc5",
   "metadata": {},
   "outputs": [],
   "source": [
    "# 트레이닝 데이터셋 : 70%, 테스트 데이터셋 : 30%\n",
    "X_train, X_test, Y_train, Y_test = train_test_split(df_x, df_y, test_size=0.3, random_state=seed)"
   ]
  },
  {
   "cell_type": "markdown",
   "id": "d7f974ea",
   "metadata": {},
   "source": [
    "학습 데이터 개수와 테스트 데이터 개수 출력 "
   ]
  },
  {
   "cell_type": "code",
   "execution_count": 12,
   "id": "4b4f5f7a",
   "metadata": {},
   "outputs": [
    {
     "name": "stdout",
     "output_type": "stream",
     "text": [
      "학습 데이터 개수 : 2696  ,  테스트 데이터 개수 1156  \n"
     ]
    }
   ],
   "source": [
    "print( \"학습 데이터 개수 : %d  ,  테스트 데이터 개수 %d  \"  %(len(X_train), len(X_test)))"
   ]
  },
  {
   "cell_type": "code",
   "execution_count": 13,
   "id": "8fa24adb",
   "metadata": {},
   "outputs": [
    {
     "name": "stdout",
     "output_type": "stream",
     "text": [
      "-> type(X_train) :  <class 'pandas.core.frame.DataFrame'>\n",
      "-> 학습 데이터 모양 :  (2696, 9)\n",
      "-> 학습 데이터 개수 :  2696 개\n",
      "\n",
      "학습 데이터 속성\n",
      "      Length  Diameter  Height     Weight  Viscera Weight  Shell Weight  \\\n",
      "530   1.4500    1.1500  0.4500  29.809499        7.356695      7.824462   \n",
      "986   1.4375    1.0750  0.3875  22.552027        5.457279      6.236890   \n",
      "2683  1.6750    1.3125  0.4250  39.703475        8.575724     10.971257   \n",
      "1269  1.2500    1.0500  0.3375  19.178437        4.011454      5.854172   \n",
      "2891  1.2625    0.9500  0.3375  19.433582        4.436697      4.564269   \n",
      "...      ...       ...     ...        ...             ...           ...   \n",
      "3606  1.7750    1.3875  0.4250  41.673765       10.772810     12.218635   \n",
      "1608  1.3875    1.0500  0.3625  24.649890        7.299996      7.087375   \n",
      "2541  0.8375    0.6500  0.2250   5.570677        1.162330      1.587572   \n",
      "2575  1.4250    1.0875  0.3500  24.338046        5.556502      6.506210   \n",
      "3240  0.9000    0.6625  0.2125   5.372230        1.459999      1.559222   \n",
      "\n",
      "      Sex_F  Sex_I  Sex_M  \n",
      "530       1      0      0  \n",
      "986       1      0      0  \n",
      "2683      0      0      1  \n",
      "1269      0      0      1  \n",
      "2891      1      0      0  \n",
      "...     ...    ...    ...  \n",
      "3606      1      0      0  \n",
      "1608      0      0      1  \n",
      "2541      0      1      0  \n",
      "2575      1      0      0  \n",
      "3240      0      1      0  \n",
      "\n",
      "[2696 rows x 9 columns]\n",
      "------------------------------------------------------------------------------------------\n",
      "-> type(X_test) :  <class 'pandas.core.frame.DataFrame'>\n",
      "-> 테스트 데이터 모양 :  (1156, 9)\n",
      "-> 테스트 데이터 개수 :  1156 개\n",
      "\n",
      "테스트 데이터 속성\n",
      "      Length  Diameter  Height     Weight  Viscera Weight  Shell Weight  \\\n",
      "2334  1.5625    1.2250  0.4125  34.161147        8.802520      9.823102   \n",
      "625   0.9375    0.6875  0.2125   6.236890        1.417475      1.715145   \n",
      "101   1.3125    1.0000  0.3250  23.515910        5.173784      7.796112   \n",
      "3783  1.1750    0.9250  0.3250  14.812614        3.770484      4.677668   \n",
      "236   1.6500    1.2125  0.3875  34.799011        7.767763      8.504850   \n",
      "...      ...       ...     ...        ...             ...           ...   \n",
      "1208  0.7000    0.5250  0.2000   3.075921        0.751262      0.978058   \n",
      "148   1.5250    1.1875  0.4250  29.440956        6.832230      9.071840   \n",
      "2217  1.6750    1.2125  0.4375  35.621147        9.128539     10.942907   \n",
      "772   1.5125    1.2500  0.4375  31.127751        6.577084     10.631063   \n",
      "375   0.9250    0.6875  0.2000   6.591259        1.587572      2.041164   \n",
      "\n",
      "      Sex_F  Sex_I  Sex_M  \n",
      "2334      0      0      1  \n",
      "625       0      1      0  \n",
      "101       0      0      1  \n",
      "3783      0      0      1  \n",
      "236       0      0      1  \n",
      "...     ...    ...    ...  \n",
      "1208      0      0      1  \n",
      "148       0      1      0  \n",
      "2217      0      1      0  \n",
      "772       0      0      1  \n",
      "375       0      1      0  \n",
      "\n",
      "[1156 rows x 9 columns]\n"
     ]
    }
   ],
   "source": [
    "print('-> type(X_train) : ', type(X_train))          # train_test_split( ) 함수의 return 값은 numpy.ndarray 타입\n",
    "print('-> 학습 데이터 모양 : ',  np.shape(X_train))  # 학습 데이터 모양 \n",
    "print('-> 학습 데이터 개수 : ', len(X_train), '개')  # 학습 데이터 개수 \n",
    "print(\"\\n학습 데이터 속성\")\n",
    "print(X_train)                                       # 학습 데이터 속성 확인\n",
    "\n",
    "print('-'*90)\n",
    "\n",
    "print('-> type(X_test) : ', type(X_test))          \n",
    "print('-> 테스트 데이터 모양 : ',  np.shape(X_test)) # 테스트 데이터 모양 \n",
    "print('-> 테스트 데이터 개수 : ', len(X_test), '개') # 테스트 데이터 개수 \n",
    "print(\"\\n테스트 데이터 속성\")\n",
    "print(X_test)                                        # 테스트 데이터 속성 확인"
   ]
  },
  {
   "cell_type": "markdown",
   "id": "3c092881",
   "metadata": {},
   "source": [
    "### 5. 딥러닝 모델 설계하기"
   ]
  },
  {
   "cell_type": "markdown",
   "id": "46caf386",
   "metadata": {},
   "source": [
    "딥러닝 구조를 결정(모델을 설정)"
   ]
  },
  {
   "cell_type": "code",
   "execution_count": 14,
   "id": "6a696734",
   "metadata": {},
   "outputs": [],
   "source": [
    "#keras에서 제공되는 Sequential 모델 \n",
    "model = Sequential()\n",
    "\n",
    "#1번째 층 : 입력 x는 9개, 출력은 12개, 활성화함수 relu \n",
    "model.add(Dense(12, input_dim=9, activation='relu'))\n",
    "\n",
    "#2번째 층 : 입력 x는 12개, 출력은 9개, 활성화함수 relu \n",
    "model.add(Dense(8, activation='relu'))\n",
    "\n",
    "#3번째 층 : 입력 x는 9개, 출력은 1개, 활성화함수 linear\n",
    "model.add(Dense(1, activation='linear'))"
   ]
  },
  {
   "cell_type": "code",
   "execution_count": 15,
   "id": "459f6137",
   "metadata": {},
   "outputs": [
    {
     "data": {
      "text/plain": [
       "<tensorflow.python.keras.engine.sequential.Sequential at 0x261e3341f70>"
      ]
     },
     "execution_count": 15,
     "metadata": {},
     "output_type": "execute_result"
    }
   ],
   "source": [
    "model"
   ]
  },
  {
   "cell_type": "markdown",
   "id": "c76307d7",
   "metadata": {},
   "source": [
    "summary() 함수로 모델 설명 보기"
   ]
  },
  {
   "cell_type": "code",
   "execution_count": 16,
   "id": "e7c6f1a2",
   "metadata": {},
   "outputs": [
    {
     "name": "stdout",
     "output_type": "stream",
     "text": [
      "Model: \"sequential\"\n",
      "_________________________________________________________________\n",
      "Layer (type)                 Output Shape              Param #   \n",
      "=================================================================\n",
      "dense (Dense)                (None, 12)                120       \n",
      "_________________________________________________________________\n",
      "dense_1 (Dense)              (None, 8)                 104       \n",
      "_________________________________________________________________\n",
      "dense_2 (Dense)              (None, 1)                 9         \n",
      "=================================================================\n",
      "Total params: 233\n",
      "Trainable params: 233\n",
      "Non-trainable params: 0\n",
      "_________________________________________________________________\n"
     ]
    }
   ],
   "source": [
    "model.summary()"
   ]
  },
  {
   "cell_type": "markdown",
   "id": "745beec2",
   "metadata": {},
   "source": [
    "### 6. 딥러닝 모델 컴파일 및 실행하기"
   ]
  },
  {
   "cell_type": "markdown",
   "id": "3b32366e",
   "metadata": {},
   "source": [
    "keras의 Sequential 모델에서 제공하는 compile() 기능으로 loss(손실 함수), optimizer(정규화기), metrics(평가지표)를 설정한다.  \n",
    "mse: Mean Square Error  \n",
    "adam: Adaptive moment estimation  \n",
    "mae: Mean Absolute Error"
   ]
  },
  {
   "cell_type": "code",
   "execution_count": 17,
   "id": "27c3422f",
   "metadata": {},
   "outputs": [],
   "source": [
    "model.compile(loss='mse', optimizer='adam', metrics=['mae'])"
   ]
  },
  {
   "cell_type": "markdown",
   "id": "fe8a94e6",
   "metadata": {},
   "source": [
    "#### 학습 조기 종료를 위한 EarlyStopping() 함수  \n",
    "monitor : 관찰하고자 하는 항목  \n",
    "patience : 항목에 대한 개선이 없을 때 바로 종료하지 않고 개선이 없는 에포크를 얼마나 기다려 줄 것인 가를 지정  \n",
    "mode : 관찰 항목에 대해 개선이 없다고 판단하기 위한 기준을 지정(min : 관찰 중인 항목이 감소되지 않을 때 종료)"
   ]
  },
  {
   "cell_type": "code",
   "execution_count": 18,
   "id": "e00cd979",
   "metadata": {},
   "outputs": [],
   "source": [
    "early_stopping = EarlyStopping(monitor='val_loss', patience=10, mode='min')"
   ]
  },
  {
   "cell_type": "markdown",
   "id": "f33f0c26",
   "metadata": {},
   "source": [
    "validation_split : 학습시 데이터를 일부 나눠서 Validation으로 사용할 비율(과적합 방지를 위해)  \n",
    "-> validation_split=0.1: 여기서는 2696개 중 10%를 Validation으로 사용하였다.  \n",
    "\n",
    "batch_size=10로 하면 2426개의 데이터를 10개씩 처리하므로 실행 결과에서 243/243 출력   \n",
    "epochs : 학습의 횟수 의미   "
   ]
  },
  {
   "cell_type": "code",
   "execution_count": 19,
   "id": "cec46eb6",
   "metadata": {
    "scrolled": true
   },
   "outputs": [
    {
     "name": "stdout",
     "output_type": "stream",
     "text": [
      "Epoch 1/50\n",
      "243/243 [==============================] - 0s 1ms/step - loss: 40.0896 - mae: 5.0811 - val_loss: 17.7951 - val_mae: 3.4513\n",
      "Epoch 2/50\n",
      "243/243 [==============================] - 0s 1ms/step - loss: 17.7297 - mae: 3.4337 - val_loss: 14.7973 - val_mae: 3.1115\n",
      "Epoch 3/50\n",
      "243/243 [==============================] - 0s 912us/step - loss: 14.7532 - mae: 3.0792 - val_loss: 12.2415 - val_mae: 2.7654\n",
      "Epoch 4/50\n",
      "243/243 [==============================] - 0s 785us/step - loss: 11.8828 - mae: 2.6722 - val_loss: 9.5862 - val_mae: 2.3843\n",
      "Epoch 5/50\n",
      "243/243 [==============================] - 0s 751us/step - loss: 9.1928 - mae: 2.2772 - val_loss: 7.4276 - val_mae: 2.0523\n",
      "Epoch 6/50\n",
      "243/243 [==============================] - 0s 837us/step - loss: 7.2577 - mae: 1.9524 - val_loss: 6.2285 - val_mae: 1.8915\n",
      "Epoch 7/50\n",
      "243/243 [==============================] - 0s 715us/step - loss: 6.4260 - mae: 1.8082 - val_loss: 5.8131 - val_mae: 1.8014\n",
      "Epoch 8/50\n",
      "243/243 [==============================] - 0s 649us/step - loss: 5.9679 - mae: 1.7550 - val_loss: 5.8987 - val_mae: 1.7527\n",
      "Epoch 9/50\n",
      "243/243 [==============================] - 0s 1ms/step - loss: 5.7959 - mae: 1.7166 - val_loss: 5.6788 - val_mae: 1.7518\n",
      "Epoch 10/50\n",
      "243/243 [==============================] - 0s 840us/step - loss: 5.6993 - mae: 1.7101 - val_loss: 5.4990 - val_mae: 1.7377\n",
      "Epoch 11/50\n",
      "243/243 [==============================] - 0s 891us/step - loss: 5.6295 - mae: 1.7004 - val_loss: 5.3485 - val_mae: 1.7582\n",
      "Epoch 12/50\n",
      "243/243 [==============================] - 0s 895us/step - loss: 5.6141 - mae: 1.6919 - val_loss: 6.0872 - val_mae: 1.7300\n",
      "Epoch 13/50\n",
      "243/243 [==============================] - 0s 747us/step - loss: 5.5375 - mae: 1.6826 - val_loss: 5.6910 - val_mae: 1.7180\n",
      "Epoch 14/50\n",
      "243/243 [==============================] - 0s 812us/step - loss: 5.4980 - mae: 1.6776 - val_loss: 6.0752 - val_mae: 1.7355\n",
      "Epoch 15/50\n",
      "243/243 [==============================] - 0s 783us/step - loss: 5.6021 - mae: 1.6820 - val_loss: 5.3476 - val_mae: 1.7864\n",
      "Epoch 16/50\n",
      "243/243 [==============================] - 0s 787us/step - loss: 5.5326 - mae: 1.6787 - val_loss: 5.5454 - val_mae: 1.7326\n",
      "Epoch 17/50\n",
      "243/243 [==============================] - 0s 830us/step - loss: 5.5396 - mae: 1.6838 - val_loss: 5.5100 - val_mae: 1.8524\n",
      "Epoch 18/50\n",
      "243/243 [==============================] - 0s 706us/step - loss: 5.4934 - mae: 1.6794 - val_loss: 5.6849 - val_mae: 1.7235\n",
      "Epoch 19/50\n",
      "243/243 [==============================] - 0s 733us/step - loss: 5.4421 - mae: 1.6645 - val_loss: 5.4781 - val_mae: 1.8467\n",
      "Epoch 20/50\n",
      "243/243 [==============================] - 0s 910us/step - loss: 5.5610 - mae: 1.6885 - val_loss: 5.3116 - val_mae: 1.7730\n",
      "Epoch 21/50\n",
      "243/243 [==============================] - 0s 846us/step - loss: 5.4781 - mae: 1.6669 - val_loss: 5.7518 - val_mae: 1.7276\n",
      "Epoch 22/50\n",
      "243/243 [==============================] - 0s 713us/step - loss: 5.5279 - mae: 1.6784 - val_loss: 5.4280 - val_mae: 1.7405\n",
      "Epoch 23/50\n",
      "243/243 [==============================] - 0s 797us/step - loss: 5.4543 - mae: 1.6669 - val_loss: 5.4363 - val_mae: 1.7333\n",
      "Epoch 24/50\n",
      "243/243 [==============================] - 0s 846us/step - loss: 5.4484 - mae: 1.6701 - val_loss: 5.4400 - val_mae: 1.7434\n",
      "Epoch 25/50\n",
      "243/243 [==============================] - 0s 754us/step - loss: 5.5124 - mae: 1.6779 - val_loss: 5.7723 - val_mae: 1.7295\n",
      "Epoch 26/50\n",
      "243/243 [==============================] - 0s 890us/step - loss: 5.4473 - mae: 1.6623 - val_loss: 5.4358 - val_mae: 1.8262\n",
      "Epoch 27/50\n",
      "243/243 [==============================] - 0s 932us/step - loss: 5.5380 - mae: 1.6813 - val_loss: 5.3690 - val_mae: 1.7973\n",
      "Epoch 28/50\n",
      "243/243 [==============================] - 0s 812us/step - loss: 5.4813 - mae: 1.6747 - val_loss: 5.3637 - val_mae: 1.7499\n",
      "Epoch 29/50\n",
      "243/243 [==============================] - 0s 754us/step - loss: 5.4264 - mae: 1.6592 - val_loss: 5.3408 - val_mae: 1.7915\n",
      "Epoch 30/50\n",
      "243/243 [==============================] - 0s 903us/step - loss: 5.4490 - mae: 1.6638 - val_loss: 5.3356 - val_mae: 1.7504\n"
     ]
    }
   ],
   "source": [
    "history = model.fit(X_train, Y_train, epochs=50, batch_size=10, validation_split=0.1, callbacks=[early_stopping])"
   ]
  },
  {
   "cell_type": "markdown",
   "id": "16e25f61",
   "metadata": {},
   "source": [
    "#### 딥러닝 모델 학습 결과 시각화  \n",
    "나는 모델이 과적합되는 것을 예방하기 위해 validation_split을 이용하여 학습 과정 중에 테스트를 실시하였다.  \n",
    "아래는 모델이 훈련되는 동안 loss와 val_loss를 보여준다.  \n",
    "학습을 거듭할 수록 loss와 val_loss가 줄어듦을 확인할 수 있다.  \n",
    "그리고 어느 정도 학습이 이루어지면 더 이상 loss와 val_loss 값은 줄어들지 않는다. "
   ]
  },
  {
   "cell_type": "code",
   "execution_count": 20,
   "id": "d4bdc596",
   "metadata": {},
   "outputs": [
    {
     "data": {
      "image/png": "[encoded data removed]",
      "text/plain": [
       "<Figure size 432x288 with 1 Axes>"
      ]
     },
     "metadata": {
      "needs_background": "light"
     },
     "output_type": "display_data"
    }
   ],
   "source": [
    "plt.plot(history.history['val_loss'])\n",
    "plt.plot(history.history['loss'])\n",
    "plt.title('Loss of Traing and Validation Dataset')\n",
    "plt.xlabel('Epochs')\n",
    "plt.ylabel('loss')\n",
    "plt.legend(['val_loss', 'loss'])\n",
    "plt.show()"
   ]
  },
  {
   "cell_type": "markdown",
   "id": "bd914298",
   "metadata": {},
   "source": [
    "### 7. 딥러닝 평가하기"
   ]
  },
  {
   "cell_type": "markdown",
   "id": "0f2399a9",
   "metadata": {},
   "source": [
    "#### keras의 Sequential 모델에서 제공하는 model.evaluate( ) 함수 사용\n",
    "return value : [mse, mae]"
   ]
  },
  {
   "cell_type": "code",
   "execution_count": 21,
   "id": "9fc8ba51",
   "metadata": {},
   "outputs": [
    {
     "name": "stdout",
     "output_type": "stream",
     "text": [
      "-> 테스트 데이터 개수 :  1156 개\n",
      "1156/1156 [==============================] - 1s 892us/step - loss: 4.9660 - mae: 1.6213\n",
      "-> [mse, mae] = [4.965987682342529, 1.621330976486206]\n"
     ]
    }
   ],
   "source": [
    "print('-> 테스트 데이터 개수 : ', len(X_test), '개')\n",
    "ev = model.evaluate(X_test, Y_test, batch_size=1)\n",
    "print('-> [mse, mae] =' , ev) "
   ]
  },
  {
   "cell_type": "markdown",
   "id": "1358f2e7",
   "metadata": {},
   "source": [
    "전체 데이터의 30%에 해당하는 1156개의 테스트 데이터셋으로 MAE() 계산 결과를 출력  \n",
    "batch_size=10 : 1156개의 데이터를 10개씩 처리하므로 실행 결과에서 116/116 출력"
   ]
  },
  {
   "cell_type": "code",
   "execution_count": 22,
   "id": "e9713d97",
   "metadata": {},
   "outputs": [
    {
     "name": "stdout",
     "output_type": "stream",
     "text": [
      "116/116 [==============================] - 0s 844us/step - loss: 4.9660 - mae: 1.6213\n",
      "\n",
      " MAE : 1.6213\n"
     ]
    }
   ],
   "source": [
    "print(\"\\n MAE : %.4f\" % (model.evaluate(X_test, Y_test, batch_size=10)[1])) "
   ]
  },
  {
   "cell_type": "markdown",
   "id": "dde675ea",
   "metadata": {},
   "source": [
    "MAE 값이 1.6213가 나왔으므로 꽃게 나이 예측의 평균적인 오차값은 1.6213개월이라는 것을 알 수 있다.  "
   ]
  },
  {
   "cell_type": "markdown",
   "id": "4cb1d2a4",
   "metadata": {},
   "source": [
    "### 8. 새로운 데이터를 위의 딥러닝 모델을 사용하여 예측하기 "
   ]
  },
  {
   "cell_type": "markdown",
   "id": "8a5ef86d",
   "metadata": {},
   "source": [
    "keras의 Sequential 모델에서 제공하는 predict() 함수를 사용  \n",
    "아직 학습과 테스트에 사용하지 않은 데이터를 사용해 예측하였다."
   ]
  },
  {
   "cell_type": "code",
   "execution_count": 23,
   "id": "f08331ae",
   "metadata": {},
   "outputs": [
    {
     "name": "stdout",
     "output_type": "stream",
     "text": [
      "crab1 나이 예측 : 11 개월\n",
      "crab2 나이 예측 : 8 개월\n"
     ]
    }
   ],
   "source": [
    "# Length, Diameter, Height, Weight, Viscera Weight, Shell Weight, Sex_F, Sex_I, Sex_M\n",
    "crab1 = np.array([[1.5305, 1.185, 0.4135, 24.7356155, 5.5858415, 6.749191, 1, 0, 0]])\n",
    "crab2 = np.array([[0.8975,0.67,0.2305,5.50050975,1.37645075,1.5602225,0,0,1]])\n",
    "\n",
    "test_crab1 = model.predict(crab1)\n",
    "test_crab2 = model.predict(crab2)\n",
    "\n",
    "print(\"crab1 나이 예측 : %.f\" %test_crab1, \"개월\")\n",
    "print(\"crab2 나이 예측 : %.f\" %test_crab2, \"개월\")"
   ]
  },
  {
   "cell_type": "markdown",
   "id": "e2c5e82e",
   "metadata": {},
   "source": [
    "실제 데이터를 바탕으로 만든 가상의 꽃게 데이터에서 딥러닝 모델이 꽤 정확하게 동작함을 확인할 수 있었다.  \n",
    "crab1은 데이터 셋의 첫 번째 crab 데이터의 각 독립변수들을 조금씩 증가시켜 생후 11개월 정도의 crab을 만들었고, crab2는 데이터 셋의 두 번째 crab 데이터의 각 독립변수들을 조금씩 증가시켜 생후 8개월 정도의 crab을 만든 것이다."
   ]
  },
  {
   "cell_type": "markdown",
   "id": "6a58d902",
   "metadata": {},
   "source": [
    "### 9. 학습 모델 저장하기"
   ]
  },
  {
   "cell_type": "code",
   "execution_count": 24,
   "id": "925be9a6",
   "metadata": {},
   "outputs": [],
   "source": [
    "model.save('CrabAge4.h5') "
   ]
  },
  {
   "cell_type": "markdown",
   "id": "23e7ba70",
   "metadata": {},
   "source": [
    "### 10. 분석"
   ]
  },
  {
   "cell_type": "markdown",
   "id": "ac7a15b6",
   "metadata": {},
   "source": [
    "이전의 모델들과 마찬가지로 꽃게 나이 예측의 평균적인 오차값이 1.6213개월인 것은 예측이 잘 되었다고 생각한다. 이는 K겹 교차 검증 방식을 사용한 모델 2와 모델 3과 비슷한 수치이다. 그러나 처음 만든 홀드 아웃 교차 검증을 사용한 딥러닝 모델 1(오차: 1.5869개월)에 비해서 오차값이 크다는 점에서 좋지 않은 방법이라는 것을 알 수 있었다. 이는 모델이 과적합되는 것을 예방하기 위해 validation_split을 이용하여 학습 과정 중에 테스트를 실시한 것이 오히려 언더피팅을 일으켰다고 생각한다. 그 이유는 validation_split의 값을 0.1로 설정하여 훈련 데이터셋의 10%의 손실이 발생하였고 훈련 데이터가 불충분하여 테스트 데이터셋에서 좋지 않은 성과를 보여주었기 때문이다. 결론적으로 성능이나 학습 시간에서 모두 모델 1이 가장 우수하다는 결과가 나왔다.  "
   ]
  },
  {
   "cell_type": "code",
   "execution_count": null,
   "id": "ca6bb22e",
   "metadata": {},
   "outputs": [],
   "source": []
  }
 ],
 "metadata": {
  "kernelspec": {
   "display_name": "Python 3",
   "language": "python",
   "name": "python3"
  },
  "language_info": {
   "codemirror_mode": {
    "name": "ipython",
    "version": 3
   },
   "file_extension": ".py",
   "mimetype": "text/x-python",
   "name": "python",
   "nbconvert_exporter": "python",
   "pygments_lexer": "ipython3",
   "version": "3.8.8"
  }
 },
 "nbformat": 4,
 "nbformat_minor": 5
}
